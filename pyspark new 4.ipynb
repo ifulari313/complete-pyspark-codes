{
 "cells": [
  {
   "cell_type": "markdown",
   "id": "01e597ac",
   "metadata": {},
   "source": [
    "## Pyspark Data frames\n",
    "\n",
    "* Filter operation\n",
    "* & , |, ==\n",
    "* ~"
   ]
  },
  {
   "cell_type": "code",
   "execution_count": 1,
   "id": "db7a195d",
   "metadata": {},
   "outputs": [],
   "source": [
    "#pip install pyspark"
   ]
  },
  {
   "cell_type": "code",
   "execution_count": 2,
   "id": "eaf526b3",
   "metadata": {},
   "outputs": [],
   "source": [
    "#pip install -q findspark"
   ]
  },
  {
   "cell_type": "code",
   "execution_count": 3,
   "id": "62a28f4a",
   "metadata": {},
   "outputs": [],
   "source": [
    "import findspark\n",
    "findspark.init()"
   ]
  },
  {
   "cell_type": "code",
   "execution_count": 4,
   "id": "bc320dc4",
   "metadata": {},
   "outputs": [],
   "source": [
    "from pyspark.sql import SparkSession\n",
    "spark=SparkSession.builder.appName('DataFrame').getOrCreate()"
   ]
  },
  {
   "cell_type": "code",
   "execution_count": 5,
   "id": "912f0db9",
   "metadata": {},
   "outputs": [
    {
     "data": {
      "text/html": [
       "\n",
       "            <div>\n",
       "                <p><b>SparkSession - in-memory</b></p>\n",
       "                \n",
       "        <div>\n",
       "            <p><b>SparkContext</b></p>\n",
       "\n",
       "            <p><a href=\"http://DESKTOP-Q65EH73:4041\">Spark UI</a></p>\n",
       "\n",
       "            <dl>\n",
       "              <dt>Version</dt>\n",
       "                <dd><code>v3.3.0</code></dd>\n",
       "              <dt>Master</dt>\n",
       "                <dd><code>local[*]</code></dd>\n",
       "              <dt>AppName</dt>\n",
       "                <dd><code>DataFrame</code></dd>\n",
       "            </dl>\n",
       "        </div>\n",
       "        \n",
       "            </div>\n",
       "        "
      ],
      "text/plain": [
       "<pyspark.sql.session.SparkSession at 0x25684449f40>"
      ]
     },
     "execution_count": 5,
     "metadata": {},
     "output_type": "execute_result"
    }
   ],
   "source": [
    "spark"
   ]
  },
  {
   "cell_type": "code",
   "execution_count": 10,
   "id": "eb42d75e",
   "metadata": {},
   "outputs": [],
   "source": [
    "df_pyspark=spark.read.csv(\"C:\\\\CSV Files\\\\csv1.csv\", header=True, inferSchema=True)"
   ]
  },
  {
   "cell_type": "code",
   "execution_count": 11,
   "id": "b5a9d1b7",
   "metadata": {},
   "outputs": [
    {
     "name": "stdout",
     "output_type": "stream",
     "text": [
      "+-------+----+----------+------+\n",
      "|   Name| Age|Experience|salary|\n",
      "+-------+----+----------+------+\n",
      "|  Irfan|  26|         5| 22000|\n",
      "| Sandra|  32|         8| 12000|\n",
      "| Mehmad|  25|         6| 15000|\n",
      "| tamara|  19|         4| 19000|\n",
      "|  soham|  22|         3| 21000|\n",
      "|shubham|  24|         4| 24000|\n",
      "| mahesh|null|      null| 35000|\n",
      "|   null|  34|        10| 38000|\n",
      "|   null|  36|      null|  null|\n",
      "+-------+----+----------+------+\n",
      "\n"
     ]
    }
   ],
   "source": [
    "df_pyspark.show()"
   ]
  },
  {
   "cell_type": "markdown",
   "id": "f91d577e",
   "metadata": {},
   "source": [
    "### filter operation"
   ]
  },
  {
   "cell_type": "code",
   "execution_count": 12,
   "id": "9581a43b",
   "metadata": {},
   "outputs": [
    {
     "name": "stdout",
     "output_type": "stream",
     "text": [
      "+------+---+----------+------+\n",
      "|  Name|Age|Experience|salary|\n",
      "+------+---+----------+------+\n",
      "|Sandra| 32|         8| 12000|\n",
      "|Mehmad| 25|         6| 15000|\n",
      "|tamara| 19|         4| 19000|\n",
      "+------+---+----------+------+\n",
      "\n"
     ]
    }
   ],
   "source": [
    "## salary of the people less than or equal to 20000\n",
    "df_pyspark.filter(\"salary<=20000\").show()"
   ]
  },
  {
   "cell_type": "code",
   "execution_count": 13,
   "id": "469b9b8f",
   "metadata": {},
   "outputs": [
    {
     "name": "stdout",
     "output_type": "stream",
     "text": [
      "+------+---+\n",
      "|  Name|Age|\n",
      "+------+---+\n",
      "|Sandra| 32|\n",
      "|Mehmad| 25|\n",
      "|tamara| 19|\n",
      "+------+---+\n",
      "\n"
     ]
    }
   ],
   "source": [
    "df_pyspark.filter(\"salary<=20000\").select(['Name','Age']).show()    #only name and age of that specific filterd condition"
   ]
  },
  {
   "cell_type": "code",
   "execution_count": 14,
   "id": "c5393639",
   "metadata": {},
   "outputs": [
    {
     "name": "stdout",
     "output_type": "stream",
     "text": [
      "+------+---+----------+------+\n",
      "|  Name|Age|Experience|salary|\n",
      "+------+---+----------+------+\n",
      "|Sandra| 32|         8| 12000|\n",
      "|Mehmad| 25|         6| 15000|\n",
      "|tamara| 19|         4| 19000|\n",
      "+------+---+----------+------+\n",
      "\n"
     ]
    }
   ],
   "source": [
    "df_pyspark.filter(df_pyspark['salary']<=20000).show()    #another method same result"
   ]
  },
  {
   "cell_type": "code",
   "execution_count": null,
   "id": "7b1b8c39",
   "metadata": {},
   "outputs": [],
   "source": [
    "# and & filter operation"
   ]
  },
  {
   "cell_type": "code",
   "execution_count": 16,
   "id": "0127585b",
   "metadata": {},
   "outputs": [
    {
     "name": "stdout",
     "output_type": "stream",
     "text": [
      "+------+---+----------+------+\n",
      "|  Name|Age|Experience|salary|\n",
      "+------+---+----------+------+\n",
      "|Mehmad| 25|         6| 15000|\n",
      "|tamara| 19|         4| 19000|\n",
      "+------+---+----------+------+\n",
      "\n"
     ]
    }
   ],
   "source": [
    "df_pyspark.filter((df_pyspark['salary']<=20000) & \n",
    "                  (df_pyspark['salary']>=15000)).show()"
   ]
  },
  {
   "cell_type": "code",
   "execution_count": null,
   "id": "ac0695c3",
   "metadata": {},
   "outputs": [],
   "source": [
    "# OR | operation"
   ]
  },
  {
   "cell_type": "code",
   "execution_count": 17,
   "id": "39b6e9fd",
   "metadata": {},
   "outputs": [
    {
     "name": "stdout",
     "output_type": "stream",
     "text": [
      "+-------+----+----------+------+\n",
      "|   Name| Age|Experience|salary|\n",
      "+-------+----+----------+------+\n",
      "|  Irfan|  26|         5| 22000|\n",
      "| Sandra|  32|         8| 12000|\n",
      "| Mehmad|  25|         6| 15000|\n",
      "| tamara|  19|         4| 19000|\n",
      "|  soham|  22|         3| 21000|\n",
      "|shubham|  24|         4| 24000|\n",
      "| mahesh|null|      null| 35000|\n",
      "|   null|  34|        10| 38000|\n",
      "+-------+----+----------+------+\n",
      "\n"
     ]
    }
   ],
   "source": [
    "df_pyspark.filter((df_pyspark['salary']<=20000) | \n",
    "                  (df_pyspark['salary']>=15000)).show()"
   ]
  },
  {
   "cell_type": "markdown",
   "id": "7e90cea9",
   "metadata": {},
   "source": [
    "## Not Operation ~"
   ]
  },
  {
   "cell_type": "code",
   "execution_count": 18,
   "id": "66e64352",
   "metadata": {},
   "outputs": [
    {
     "name": "stdout",
     "output_type": "stream",
     "text": [
      "+-------+----+----------+------+\n",
      "|   Name| Age|Experience|salary|\n",
      "+-------+----+----------+------+\n",
      "|  Irfan|  26|         5| 22000|\n",
      "|  soham|  22|         3| 21000|\n",
      "|shubham|  24|         4| 24000|\n",
      "| mahesh|null|      null| 35000|\n",
      "|   null|  34|        10| 38000|\n",
      "+-------+----+----------+------+\n",
      "\n"
     ]
    }
   ],
   "source": [
    "df_pyspark.filter(~(df_pyspark['salary']<=20000)).show() # which is not present in condition, is shown by not operator(~)(inverse)"
   ]
  },
  {
   "cell_type": "code",
   "execution_count": null,
   "id": "3fbf2abc",
   "metadata": {},
   "outputs": [],
   "source": []
  },
  {
   "cell_type": "code",
   "execution_count": null,
   "id": "5239b55c",
   "metadata": {},
   "outputs": [],
   "source": []
  },
  {
   "cell_type": "code",
   "execution_count": null,
   "id": "7f2b5898",
   "metadata": {},
   "outputs": [],
   "source": []
  },
  {
   "cell_type": "code",
   "execution_count": null,
   "id": "cde41ee4",
   "metadata": {},
   "outputs": [],
   "source": []
  }
 ],
 "metadata": {
  "kernelspec": {
   "display_name": "Python 3 (ipykernel)",
   "language": "python",
   "name": "python3"
  },
  "language_info": {
   "codemirror_mode": {
    "name": "ipython",
    "version": 3
   },
   "file_extension": ".py",
   "mimetype": "text/x-python",
   "name": "python",
   "nbconvert_exporter": "python",
   "pygments_lexer": "ipython3",
   "version": "3.9.7"
  }
 },
 "nbformat": 4,
 "nbformat_minor": 5
}
