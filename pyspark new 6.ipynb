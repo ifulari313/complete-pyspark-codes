{
 "cells": [
  {
   "cell_type": "markdown",
   "id": "3d0ed64b",
   "metadata": {},
   "source": [
    "# Examples of Pyspark ML"
   ]
  },
  {
   "cell_type": "code",
   "execution_count": 1,
   "id": "19e8b4c3",
   "metadata": {},
   "outputs": [],
   "source": [
    "import findspark"
   ]
  },
  {
   "cell_type": "code",
   "execution_count": null,
   "id": "b0acd8e4",
   "metadata": {},
   "outputs": [],
   "source": [
    "#pip install pyspark"
   ]
  },
  {
   "cell_type": "code",
   "execution_count": null,
   "id": "5c80d0b5",
   "metadata": {},
   "outputs": [],
   "source": [
    "#pip install -q findspark"
   ]
  },
  {
   "cell_type": "code",
   "execution_count": 2,
   "id": "118a7364",
   "metadata": {},
   "outputs": [],
   "source": [
    "findspark.init()"
   ]
  },
  {
   "cell_type": "code",
   "execution_count": 4,
   "id": "f572ae82",
   "metadata": {},
   "outputs": [],
   "source": [
    "from pyspark.sql import SparkSession\n",
    "spark=SparkSession.builder.appName('Missing').getOrCreate()"
   ]
  },
  {
   "cell_type": "code",
   "execution_count": 5,
   "id": "85dc72f5",
   "metadata": {},
   "outputs": [
    {
     "data": {
      "text/html": [
       "\n",
       "            <div>\n",
       "                <p><b>SparkSession - in-memory</b></p>\n",
       "                \n",
       "        <div>\n",
       "            <p><b>SparkContext</b></p>\n",
       "\n",
       "            <p><a href=\"http://DESKTOP-Q65EH73:4043\">Spark UI</a></p>\n",
       "\n",
       "            <dl>\n",
       "              <dt>Version</dt>\n",
       "                <dd><code>v3.3.0</code></dd>\n",
       "              <dt>Master</dt>\n",
       "                <dd><code>local[*]</code></dd>\n",
       "              <dt>AppName</dt>\n",
       "                <dd><code>DataFrame</code></dd>\n",
       "            </dl>\n",
       "        </div>\n",
       "        \n",
       "            </div>\n",
       "        "
      ],
      "text/plain": [
       "<pyspark.sql.session.SparkSession at 0x272588a6d30>"
      ]
     },
     "execution_count": 5,
     "metadata": {},
     "output_type": "execute_result"
    }
   ],
   "source": [
    "spark"
   ]
  },
  {
   "cell_type": "code",
   "execution_count": 6,
   "id": "79eef779",
   "metadata": {},
   "outputs": [],
   "source": [
    "training=spark.read.csv(\"C:\\\\CSV Files\\\\csv3.csv\",header=True, inferSchema=True)"
   ]
  },
  {
   "cell_type": "code",
   "execution_count": 7,
   "id": "8b0b31bd",
   "metadata": {},
   "outputs": [
    {
     "name": "stdout",
     "output_type": "stream",
     "text": [
      "+-------+---+----------+------+\n",
      "|   Name|Age|Experience|salary|\n",
      "+-------+---+----------+------+\n",
      "|  Irfan| 26|         5| 22000|\n",
      "| Sandra| 32|         8| 12000|\n",
      "| Mehmad| 25|         6| 15000|\n",
      "| tamara| 19|         4| 19000|\n",
      "|  soham| 22|         3| 21000|\n",
      "|shubham| 24|         4| 24000|\n",
      "+-------+---+----------+------+\n",
      "\n"
     ]
    }
   ],
   "source": [
    "training.show()"
   ]
  },
  {
   "cell_type": "code",
   "execution_count": 8,
   "id": "87843403",
   "metadata": {},
   "outputs": [
    {
     "name": "stdout",
     "output_type": "stream",
     "text": [
      "root\n",
      " |-- Name: string (nullable = true)\n",
      " |-- Age: integer (nullable = true)\n",
      " |-- Experience: integer (nullable = true)\n",
      " |-- salary: integer (nullable = true)\n",
      "\n"
     ]
    }
   ],
   "source": [
    "training.printSchema()"
   ]
  },
  {
   "cell_type": "code",
   "execution_count": 9,
   "id": "dab454a5",
   "metadata": {},
   "outputs": [
    {
     "data": {
      "text/plain": [
       "['Name', 'Age', 'Experience', 'salary']"
      ]
     },
     "execution_count": 9,
     "metadata": {},
     "output_type": "execute_result"
    }
   ],
   "source": [
    "training.columns"
   ]
  },
  {
   "cell_type": "code",
   "execution_count": null,
   "id": "6bb40633",
   "metadata": {},
   "outputs": [],
   "source": []
  },
  {
   "cell_type": "code",
   "execution_count": null,
   "id": "dd0ac44c",
   "metadata": {},
   "outputs": [],
   "source": [
    "#  [Age, Experience]---> new feature ---> independant feature   #group columns and create new columns called independant feature"
   ]
  },
  {
   "cell_type": "code",
   "execution_count": null,
   "id": "e4cf50a8",
   "metadata": {},
   "outputs": [],
   "source": [
    "## for this we use vector assembler"
   ]
  },
  {
   "cell_type": "code",
   "execution_count": 10,
   "id": "7d270553",
   "metadata": {},
   "outputs": [],
   "source": [
    "from pyspark.ml.feature import VectorAssembler"
   ]
  },
  {
   "cell_type": "code",
   "execution_count": 12,
   "id": "8ed9ce36",
   "metadata": {},
   "outputs": [],
   "source": [
    "featureassembler =VectorAssembler(inputCols=[\"Age\",\"Experience\"], outputCol=\"Independant feature\") "
   ]
  },
  {
   "cell_type": "code",
   "execution_count": 13,
   "id": "6f1fb998",
   "metadata": {},
   "outputs": [],
   "source": [
    "output=featureassembler.transform(training)"
   ]
  },
  {
   "cell_type": "code",
   "execution_count": 14,
   "id": "571e82e2",
   "metadata": {},
   "outputs": [
    {
     "name": "stdout",
     "output_type": "stream",
     "text": [
      "+-------+---+----------+------+-------------------+\n",
      "|   Name|Age|Experience|salary|Independant feature|\n",
      "+-------+---+----------+------+-------------------+\n",
      "|  Irfan| 26|         5| 22000|         [26.0,5.0]|\n",
      "| Sandra| 32|         8| 12000|         [32.0,8.0]|\n",
      "| Mehmad| 25|         6| 15000|         [25.0,6.0]|\n",
      "| tamara| 19|         4| 19000|         [19.0,4.0]|\n",
      "|  soham| 22|         3| 21000|         [22.0,3.0]|\n",
      "|shubham| 24|         4| 24000|         [24.0,4.0]|\n",
      "+-------+---+----------+------+-------------------+\n",
      "\n"
     ]
    }
   ],
   "source": [
    "output.show()"
   ]
  },
  {
   "cell_type": "code",
   "execution_count": 15,
   "id": "9af0e4b1",
   "metadata": {},
   "outputs": [
    {
     "data": {
      "text/plain": [
       "['Name', 'Age', 'Experience', 'salary', 'Independant feature']"
      ]
     },
     "execution_count": 15,
     "metadata": {},
     "output_type": "execute_result"
    }
   ],
   "source": [
    "output.columns"
   ]
  },
  {
   "cell_type": "code",
   "execution_count": null,
   "id": "d5a95c78",
   "metadata": {},
   "outputs": [],
   "source": [
    "## now Independant feature is our input feature and salary is our output feature to predict"
   ]
  },
  {
   "cell_type": "code",
   "execution_count": 16,
   "id": "dcb2d06b",
   "metadata": {},
   "outputs": [],
   "source": [
    "finalized_data=output.select(\"Independant feature\",\"salary\")"
   ]
  },
  {
   "cell_type": "code",
   "execution_count": 17,
   "id": "ef4d1e56",
   "metadata": {},
   "outputs": [
    {
     "name": "stdout",
     "output_type": "stream",
     "text": [
      "+-------------------+------+\n",
      "|Independant feature|salary|\n",
      "+-------------------+------+\n",
      "|         [26.0,5.0]| 22000|\n",
      "|         [32.0,8.0]| 12000|\n",
      "|         [25.0,6.0]| 15000|\n",
      "|         [19.0,4.0]| 19000|\n",
      "|         [22.0,3.0]| 21000|\n",
      "|         [24.0,4.0]| 24000|\n",
      "+-------------------+------+\n",
      "\n"
     ]
    }
   ],
   "source": [
    "finalized_data.show()"
   ]
  },
  {
   "cell_type": "code",
   "execution_count": null,
   "id": "5e50f422",
   "metadata": {},
   "outputs": [],
   "source": [
    "# now we do train test split"
   ]
  },
  {
   "cell_type": "code",
   "execution_count": 18,
   "id": "2292586c",
   "metadata": {},
   "outputs": [],
   "source": [
    "from pyspark.ml.regression import LinearRegression"
   ]
  },
  {
   "cell_type": "code",
   "execution_count": 19,
   "id": "e26c7d24",
   "metadata": {},
   "outputs": [],
   "source": [
    "train_data, test_data = finalized_data.randomSplit([0.75,0.25])"
   ]
  },
  {
   "cell_type": "code",
   "execution_count": 26,
   "id": "b1da069d",
   "metadata": {},
   "outputs": [
    {
     "name": "stdout",
     "output_type": "stream",
     "text": [
      "+-------------------+------+\n",
      "|Independant feature|salary|\n",
      "+-------------------+------+\n",
      "|         [19.0,4.0]| 19000|\n",
      "|         [22.0,3.0]| 21000|\n",
      "|         [24.0,4.0]| 24000|\n",
      "|         [32.0,8.0]| 12000|\n",
      "+-------------------+------+\n",
      "\n"
     ]
    }
   ],
   "source": [
    "train_data.show()"
   ]
  },
  {
   "cell_type": "code",
   "execution_count": 20,
   "id": "f08cfafd",
   "metadata": {},
   "outputs": [],
   "source": [
    "regressor=LinearRegression(featuresCol='Independant feature', labelCol='salary')\n",
    "regressor=regressor.fit(train_data)"
   ]
  },
  {
   "cell_type": "code",
   "execution_count": null,
   "id": "0fe6e34e",
   "metadata": {},
   "outputs": [],
   "source": [
    "## coefficients"
   ]
  },
  {
   "cell_type": "code",
   "execution_count": 21,
   "id": "c2ea2d18",
   "metadata": {},
   "outputs": [
    {
     "data": {
      "text/plain": [
       "DenseVector([428.5714, -3000.0])"
      ]
     },
     "execution_count": 21,
     "metadata": {},
     "output_type": "execute_result"
    }
   ],
   "source": [
    "regressor.coefficients"
   ]
  },
  {
   "cell_type": "code",
   "execution_count": null,
   "id": "4f3a5610",
   "metadata": {},
   "outputs": [],
   "source": [
    "### intercepts"
   ]
  },
  {
   "cell_type": "code",
   "execution_count": 22,
   "id": "3f1a28a5",
   "metadata": {},
   "outputs": [
    {
     "data": {
      "text/plain": [
       "22857.14285714272"
      ]
     },
     "execution_count": 22,
     "metadata": {},
     "output_type": "execute_result"
    }
   ],
   "source": [
    "regressor.intercept"
   ]
  },
  {
   "cell_type": "code",
   "execution_count": null,
   "id": "6003d695",
   "metadata": {},
   "outputs": [],
   "source": [
    "### prediction on test data"
   ]
  },
  {
   "cell_type": "code",
   "execution_count": 23,
   "id": "68a74252",
   "metadata": {},
   "outputs": [],
   "source": [
    "pred_results = regressor.evaluate(test_data)"
   ]
  },
  {
   "cell_type": "code",
   "execution_count": 24,
   "id": "69b2a949",
   "metadata": {},
   "outputs": [
    {
     "name": "stdout",
     "output_type": "stream",
     "text": [
      "+-------------------+------+------------------+\n",
      "|Independant feature|salary|        prediction|\n",
      "+-------------------+------+------------------+\n",
      "|         [25.0,6.0]| 15000| 15571.42857142854|\n",
      "|         [26.0,5.0]| 22000|19000.000000000015|\n",
      "+-------------------+------+------------------+\n",
      "\n"
     ]
    }
   ],
   "source": [
    "pred_results.predictions.show()"
   ]
  },
  {
   "cell_type": "code",
   "execution_count": null,
   "id": "3614f27f",
   "metadata": {},
   "outputs": [],
   "source": []
  },
  {
   "cell_type": "code",
   "execution_count": 27,
   "id": "5679d2b1",
   "metadata": {},
   "outputs": [
    {
     "data": {
      "text/plain": [
       "1785.7142857142626"
      ]
     },
     "execution_count": 27,
     "metadata": {},
     "output_type": "execute_result"
    }
   ],
   "source": [
    "pred_results.meanAbsoluteError"
   ]
  },
  {
   "cell_type": "code",
   "execution_count": 28,
   "id": "ba1b8f4b",
   "metadata": {},
   "outputs": [
    {
     "data": {
      "text/plain": [
       "4663265.306122387"
      ]
     },
     "execution_count": 28,
     "metadata": {},
     "output_type": "execute_result"
    }
   ],
   "source": [
    "pred_results.meanSquaredError"
   ]
  },
  {
   "cell_type": "code",
   "execution_count": null,
   "id": "abe0f2a6",
   "metadata": {},
   "outputs": [],
   "source": []
  },
  {
   "cell_type": "code",
   "execution_count": null,
   "id": "6249b5d1",
   "metadata": {},
   "outputs": [],
   "source": []
  }
 ],
 "metadata": {
  "kernelspec": {
   "display_name": "Python 3 (ipykernel)",
   "language": "python",
   "name": "python3"
  },
  "language_info": {
   "codemirror_mode": {
    "name": "ipython",
    "version": 3
   },
   "file_extension": ".py",
   "mimetype": "text/x-python",
   "name": "python",
   "nbconvert_exporter": "python",
   "pygments_lexer": "ipython3",
   "version": "3.9.7"
  }
 },
 "nbformat": 4,
 "nbformat_minor": 5
}
