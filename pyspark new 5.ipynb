{
 "cells": [
  {
   "cell_type": "markdown",
   "id": "50fde4f8",
   "metadata": {},
   "source": [
    "# Pyspark GroupBy and Aggregate Functions"
   ]
  },
  {
   "cell_type": "code",
   "execution_count": 1,
   "id": "53d6a8e1",
   "metadata": {},
   "outputs": [],
   "source": [
    "#pip install pyspark"
   ]
  },
  {
   "cell_type": "code",
   "execution_count": 2,
   "id": "4b1c909b",
   "metadata": {
    "scrolled": true
   },
   "outputs": [],
   "source": [
    "#pip install -q findspark"
   ]
  },
  {
   "cell_type": "code",
   "execution_count": 3,
   "id": "301cb7b8",
   "metadata": {},
   "outputs": [],
   "source": [
    "import findspark\n",
    "findspark.init()"
   ]
  },
  {
   "cell_type": "code",
   "execution_count": 4,
   "id": "24853995",
   "metadata": {},
   "outputs": [],
   "source": [
    "from pyspark.sql import SparkSession\n",
    "spark=SparkSession.builder.appName('DataFrame').getOrCreate()"
   ]
  },
  {
   "cell_type": "code",
   "execution_count": 5,
   "id": "442e8db7",
   "metadata": {},
   "outputs": [
    {
     "data": {
      "text/html": [
       "\n",
       "            <div>\n",
       "                <p><b>SparkSession - in-memory</b></p>\n",
       "                \n",
       "        <div>\n",
       "            <p><b>SparkContext</b></p>\n",
       "\n",
       "            <p><a href=\"http://DESKTOP-Q65EH73:4040\">Spark UI</a></p>\n",
       "\n",
       "            <dl>\n",
       "              <dt>Version</dt>\n",
       "                <dd><code>v3.3.0</code></dd>\n",
       "              <dt>Master</dt>\n",
       "                <dd><code>local[*]</code></dd>\n",
       "              <dt>AppName</dt>\n",
       "                <dd><code>DataFrame</code></dd>\n",
       "            </dl>\n",
       "        </div>\n",
       "        \n",
       "            </div>\n",
       "        "
      ],
      "text/plain": [
       "<pyspark.sql.session.SparkSession at 0x1a1a8ef45b0>"
      ]
     },
     "execution_count": 5,
     "metadata": {},
     "output_type": "execute_result"
    }
   ],
   "source": [
    "spark"
   ]
  },
  {
   "cell_type": "code",
   "execution_count": 6,
   "id": "06be06b5",
   "metadata": {},
   "outputs": [],
   "source": [
    "df_pyspark=spark.read.csv(\"C:\\\\CSV Files\\\\csv2.csv\",header=True, inferSchema=True)"
   ]
  },
  {
   "cell_type": "code",
   "execution_count": 7,
   "id": "164349d6",
   "metadata": {},
   "outputs": [
    {
     "name": "stdout",
     "output_type": "stream",
     "text": [
      "+--------+-----------+------+\n",
      "|    Name|Departments|salary|\n",
      "+--------+-----------+------+\n",
      "|   irfan|         DS| 10000|\n",
      "|  sandra|        IOT| 15000|\n",
      "|   irfan|         BD| 22000|\n",
      "|    iona|         BD| 21000|\n",
      "|  sandra|         DS| 16000|\n",
      "|  sandry|         DS| 17000|\n",
      "|  mahesh|        IOT| 19000|\n",
      "|  mahesh|         BD| 25000|\n",
      "|  champu|         DS| 11000|\n",
      "|sudhansh|         BD| 12000|\n",
      "|sudhansh|         DS| 13000|\n",
      "+--------+-----------+------+\n",
      "\n"
     ]
    }
   ],
   "source": [
    "df_pyspark.show()"
   ]
  },
  {
   "cell_type": "code",
   "execution_count": 8,
   "id": "8cf7f619",
   "metadata": {},
   "outputs": [
    {
     "name": "stdout",
     "output_type": "stream",
     "text": [
      "root\n",
      " |-- Name: string (nullable = true)\n",
      " |-- Departments: string (nullable = true)\n",
      " |-- salary: integer (nullable = true)\n",
      "\n"
     ]
    }
   ],
   "source": [
    "df_pyspark.printSchema()"
   ]
  },
  {
   "cell_type": "code",
   "execution_count": 9,
   "id": "edef5ed9",
   "metadata": {},
   "outputs": [],
   "source": [
    "## Group By function and aggeregate function works together"
   ]
  },
  {
   "cell_type": "code",
   "execution_count": 10,
   "id": "8752a694",
   "metadata": {},
   "outputs": [
    {
     "name": "stdout",
     "output_type": "stream",
     "text": [
      "+--------+-----------+\n",
      "|    Name|sum(salary)|\n",
      "+--------+-----------+\n",
      "|  champu|      11000|\n",
      "|   irfan|      32000|\n",
      "|  sandra|      31000|\n",
      "|    iona|      21000|\n",
      "|sudhansh|      25000|\n",
      "|  mahesh|      44000|\n",
      "|  sandry|      17000|\n",
      "+--------+-----------+\n",
      "\n"
     ]
    }
   ],
   "source": [
    "df_pyspark.groupBy('Name').sum().show()   # grouped to find maximum salary"
   ]
  },
  {
   "cell_type": "markdown",
   "id": "00545223",
   "metadata": {},
   "source": [
    "## Groupby departments whih gives maximum salary "
   ]
  },
  {
   "cell_type": "code",
   "execution_count": 11,
   "id": "1e0523ca",
   "metadata": {},
   "outputs": [
    {
     "name": "stdout",
     "output_type": "stream",
     "text": [
      "+-----------+-----------+\n",
      "|Departments|sum(salary)|\n",
      "+-----------+-----------+\n",
      "|        IOT|      34000|\n",
      "|         BD|      80000|\n",
      "|         DS|      67000|\n",
      "+-----------+-----------+\n",
      "\n"
     ]
    }
   ],
   "source": [
    "df_pyspark.groupBy('Departments').sum().show()"
   ]
  },
  {
   "cell_type": "code",
   "execution_count": 12,
   "id": "f99ee497",
   "metadata": {},
   "outputs": [
    {
     "name": "stdout",
     "output_type": "stream",
     "text": [
      "+-----------+-----------+\n",
      "|Departments|avg(salary)|\n",
      "+-----------+-----------+\n",
      "|        IOT|    17000.0|\n",
      "|         BD|    20000.0|\n",
      "|         DS|    13400.0|\n",
      "+-----------+-----------+\n",
      "\n"
     ]
    }
   ],
   "source": [
    "# we can find mean salary\n",
    "\n",
    "df_pyspark.groupBy('Departments').mean().show()"
   ]
  },
  {
   "cell_type": "code",
   "execution_count": 13,
   "id": "b7bf60a8",
   "metadata": {},
   "outputs": [
    {
     "name": "stdout",
     "output_type": "stream",
     "text": [
      "+-----------+-----+\n",
      "|Departments|count|\n",
      "+-----------+-----+\n",
      "|        IOT|    2|\n",
      "|         BD|    4|\n",
      "|         DS|    5|\n",
      "+-----------+-----+\n",
      "\n"
     ]
    }
   ],
   "source": [
    "## find how many employees in specific column\n",
    "\n",
    "df_pyspark.groupBy('Departments').count().show()"
   ]
  },
  {
   "cell_type": "code",
   "execution_count": 14,
   "id": "833859b3",
   "metadata": {},
   "outputs": [
    {
     "name": "stdout",
     "output_type": "stream",
     "text": [
      "+-----------+\n",
      "|sum(salary)|\n",
      "+-----------+\n",
      "|     181000|\n",
      "+-----------+\n",
      "\n"
     ]
    }
   ],
   "source": [
    "## findout total salary  i.e total expenditure\n",
    "\n",
    "\n",
    "df_pyspark.agg({'salary':'sum'}).show()\n"
   ]
  },
  {
   "cell_type": "code",
   "execution_count": 15,
   "id": "27445ee3",
   "metadata": {},
   "outputs": [],
   "source": [
    "### find out person getting maximum salary"
   ]
  },
  {
   "cell_type": "code",
   "execution_count": 19,
   "id": "8e053716",
   "metadata": {},
   "outputs": [
    {
     "name": "stdout",
     "output_type": "stream",
     "text": [
      "+--------+-----------+\n",
      "|    Name|max(salary)|\n",
      "+--------+-----------+\n",
      "|  champu|      11000|\n",
      "|   irfan|      22000|\n",
      "|  sandra|      16000|\n",
      "|    iona|      21000|\n",
      "|sudhansh|      13000|\n",
      "|  mahesh|      25000|\n",
      "|  sandry|      17000|\n",
      "+--------+-----------+\n",
      "\n"
     ]
    }
   ],
   "source": [
    "df_pyspark.groupBy('Name').max().show() "
   ]
  },
  {
   "cell_type": "code",
   "execution_count": 17,
   "id": "251e711b",
   "metadata": {},
   "outputs": [
    {
     "name": "stdout",
     "output_type": "stream",
     "text": [
      "+--------+-----------+\n",
      "|    Name|min(salary)|\n",
      "+--------+-----------+\n",
      "|  champu|      11000|\n",
      "|   irfan|      10000|\n",
      "|  sandra|      15000|\n",
      "|    iona|      21000|\n",
      "|sudhansh|      12000|\n",
      "|  mahesh|      19000|\n",
      "|  sandry|      17000|\n",
      "+--------+-----------+\n",
      "\n"
     ]
    }
   ],
   "source": [
    "df_pyspark.groupBy('Name').min().show()"
   ]
  },
  {
   "cell_type": "code",
   "execution_count": 18,
   "id": "bdd5bbcd",
   "metadata": {},
   "outputs": [
    {
     "name": "stdout",
     "output_type": "stream",
     "text": [
      "+--------+-----------+\n",
      "|    Name|avg(salary)|\n",
      "+--------+-----------+\n",
      "|  champu|    11000.0|\n",
      "|   irfan|    16000.0|\n",
      "|  sandra|    15500.0|\n",
      "|    iona|    21000.0|\n",
      "|sudhansh|    12500.0|\n",
      "|  mahesh|    22000.0|\n",
      "|  sandry|    17000.0|\n",
      "+--------+-----------+\n",
      "\n"
     ]
    }
   ],
   "source": [
    "df_pyspark.groupBy('Name').avg().show()"
   ]
  },
  {
   "cell_type": "code",
   "execution_count": null,
   "id": "5905222b",
   "metadata": {},
   "outputs": [],
   "source": []
  },
  {
   "cell_type": "code",
   "execution_count": null,
   "id": "b8c7f690",
   "metadata": {},
   "outputs": [],
   "source": []
  }
 ],
 "metadata": {
  "kernelspec": {
   "display_name": "Python 3 (ipykernel)",
   "language": "python",
   "name": "python3"
  },
  "language_info": {
   "codemirror_mode": {
    "name": "ipython",
    "version": 3
   },
   "file_extension": ".py",
   "mimetype": "text/x-python",
   "name": "python",
   "nbconvert_exporter": "python",
   "pygments_lexer": "ipython3",
   "version": "3.9.7"
  }
 },
 "nbformat": 4,
 "nbformat_minor": 5
}
