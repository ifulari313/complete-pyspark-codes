{
 "cells": [
  {
   "cell_type": "code",
   "execution_count": 58,
   "id": "fb0a9966",
   "metadata": {},
   "outputs": [],
   "source": [
    "#pip install pyspark"
   ]
  },
  {
   "cell_type": "code",
   "execution_count": 59,
   "id": "8af85ac6",
   "metadata": {},
   "outputs": [],
   "source": [
    "#pip install -q findspark"
   ]
  },
  {
   "cell_type": "code",
   "execution_count": 1,
   "id": "4c285424",
   "metadata": {},
   "outputs": [],
   "source": [
    "import findspark\n",
    "findspark.init()\n",
    "findspark.find()"
   ]
  },
  {
   "cell_type": "code",
   "execution_count": 2,
   "id": "2b2aadc2",
   "metadata": {},
   "outputs": [
    {
     "data": {
      "text/plain": [
       "'C:\\\\bin\\\\spark-3.3.0-bin-hadoop2'"
      ]
     },
     "execution_count": 2,
     "metadata": {},
     "output_type": "execute_result"
    }
   ],
   "source": [
    "findspark.find()"
   ]
  },
  {
   "cell_type": "code",
   "execution_count": 3,
   "id": "273f3092",
   "metadata": {},
   "outputs": [],
   "source": [
    "from pyspark import SparkContext"
   ]
  },
  {
   "cell_type": "code",
   "execution_count": 4,
   "id": "0738c458",
   "metadata": {},
   "outputs": [],
   "source": [
    "sc=SparkContext()"
   ]
  },
  {
   "cell_type": "code",
   "execution_count": 5,
   "id": "0aec14b0",
   "metadata": {},
   "outputs": [],
   "source": [
    "from pyspark.sql import SparkSession\n",
    "spark=SparkSession.builder.appName('practice').getOrCreate()"
   ]
  },
  {
   "cell_type": "code",
   "execution_count": 6,
   "id": "ec0db922",
   "metadata": {},
   "outputs": [],
   "source": [
    "a=sc.parallelize(['irfan','123','fulari'])"
   ]
  },
  {
   "cell_type": "code",
   "execution_count": 10,
   "id": "d1a1f741",
   "metadata": {},
   "outputs": [
    {
     "data": {
      "text/plain": [
       "['irfan', '123', 'fulari']"
      ]
     },
     "execution_count": 10,
     "metadata": {},
     "output_type": "execute_result"
    }
   ],
   "source": [
    "a.take(3)"
   ]
  },
  {
   "cell_type": "code",
   "execution_count": 8,
   "id": "3c756922",
   "metadata": {},
   "outputs": [
    {
     "data": {
      "text/plain": [
       "pyspark.rdd.RDD"
      ]
     },
     "execution_count": 8,
     "metadata": {},
     "output_type": "execute_result"
    }
   ],
   "source": [
    "type(a)"
   ]
  },
  {
   "cell_type": "code",
   "execution_count": 11,
   "id": "b4832f7a",
   "metadata": {},
   "outputs": [],
   "source": [
    "sc.stop()"
   ]
  },
  {
   "cell_type": "code",
   "execution_count": 12,
   "id": "07bb7fff",
   "metadata": {},
   "outputs": [],
   "source": [
    "from pyspark import SparkContext, SparkConf"
   ]
  },
  {
   "cell_type": "code",
   "execution_count": 13,
   "id": "9ceb6618",
   "metadata": {},
   "outputs": [],
   "source": [
    "conf=SparkConf().setAppName(\"my_practice\").setMaster(\"local\")\n",
    "sc=SparkContext(conf=conf)"
   ]
  },
  {
   "cell_type": "code",
   "execution_count": 14,
   "id": "d1f6f7dc",
   "metadata": {},
   "outputs": [
    {
     "data": {
      "text/plain": [
       "[('spark.master', 'local'),\n",
       " ('spark.driver.extraJavaOptions',\n",
       "  '-XX:+IgnoreUnrecognizedVMOptions --add-opens=java.base/java.lang=ALL-UNNAMED --add-opens=java.base/java.lang.invoke=ALL-UNNAMED --add-opens=java.base/java.lang.reflect=ALL-UNNAMED --add-opens=java.base/java.io=ALL-UNNAMED --add-opens=java.base/java.net=ALL-UNNAMED --add-opens=java.base/java.nio=ALL-UNNAMED --add-opens=java.base/java.util=ALL-UNNAMED --add-opens=java.base/java.util.concurrent=ALL-UNNAMED --add-opens=java.base/java.util.concurrent.atomic=ALL-UNNAMED --add-opens=java.base/sun.nio.ch=ALL-UNNAMED --add-opens=java.base/sun.nio.cs=ALL-UNNAMED --add-opens=java.base/sun.security.action=ALL-UNNAMED --add-opens=java.base/sun.util.calendar=ALL-UNNAMED --add-opens=java.security.jgss/sun.security.krb5=ALL-UNNAMED'),\n",
       " ('spark.app.startTime', '1661420423183'),\n",
       " ('spark.app.submitTime', '1661419973486'),\n",
       " ('spark.executor.id', 'driver'),\n",
       " ('spark.driver.port', '50904'),\n",
       " ('spark.app.id', 'local-1661420423513'),\n",
       " ('spark.rdd.compress', 'True'),\n",
       " ('spark.executor.extraJavaOptions',\n",
       "  '-XX:+IgnoreUnrecognizedVMOptions --add-opens=java.base/java.lang=ALL-UNNAMED --add-opens=java.base/java.lang.invoke=ALL-UNNAMED --add-opens=java.base/java.lang.reflect=ALL-UNNAMED --add-opens=java.base/java.io=ALL-UNNAMED --add-opens=java.base/java.net=ALL-UNNAMED --add-opens=java.base/java.nio=ALL-UNNAMED --add-opens=java.base/java.util=ALL-UNNAMED --add-opens=java.base/java.util.concurrent=ALL-UNNAMED --add-opens=java.base/java.util.concurrent.atomic=ALL-UNNAMED --add-opens=java.base/sun.nio.ch=ALL-UNNAMED --add-opens=java.base/sun.nio.cs=ALL-UNNAMED --add-opens=java.base/sun.security.action=ALL-UNNAMED --add-opens=java.base/sun.util.calendar=ALL-UNNAMED --add-opens=java.security.jgss/sun.security.krb5=ALL-UNNAMED'),\n",
       " ('spark.driver.host', 'DESKTOP-Q65EH73'),\n",
       " ('spark.serializer.objectStreamReset', '100'),\n",
       " ('spark.submit.pyFiles', ''),\n",
       " ('spark.submit.deployMode', 'client'),\n",
       " ('spark.app.name', 'my_practice'),\n",
       " ('spark.ui.showConsoleProgress', 'true')]"
      ]
     },
     "execution_count": 14,
     "metadata": {},
     "output_type": "execute_result"
    }
   ],
   "source": [
    "sc.getConf().getAll()"
   ]
  },
  {
   "cell_type": "code",
   "execution_count": 15,
   "id": "d617059c",
   "metadata": {},
   "outputs": [],
   "source": [
    "sc.stop()"
   ]
  },
  {
   "cell_type": "code",
   "execution_count": 16,
   "id": "73d2cb43",
   "metadata": {},
   "outputs": [],
   "source": [
    "sc=SparkContext()\n",
    "names=sc.parallelize(['adam','cray','shail','brain','mark','christ','shail','satya','mark','frans','bill'])"
   ]
  },
  {
   "cell_type": "code",
   "execution_count": 17,
   "id": "1d9ace0c",
   "metadata": {},
   "outputs": [
    {
     "data": {
      "text/plain": [
       "pyspark.rdd.RDD"
      ]
     },
     "execution_count": 17,
     "metadata": {},
     "output_type": "execute_result"
    }
   ],
   "source": [
    "type(names)"
   ]
  },
  {
   "cell_type": "code",
   "execution_count": 19,
   "id": "ed8b250b",
   "metadata": {},
   "outputs": [
    {
     "data": {
      "text/plain": [
       "['adam',\n",
       " 'cray',\n",
       " 'shail',\n",
       " 'brain',\n",
       " 'mark',\n",
       " 'christ',\n",
       " 'shail',\n",
       " 'satya',\n",
       " 'mark',\n",
       " 'frans',\n",
       " 'bill']"
      ]
     },
     "execution_count": 19,
     "metadata": {},
     "output_type": "execute_result"
    }
   ],
   "source": [
    "names.take(11)"
   ]
  },
  {
   "cell_type": "code",
   "execution_count": 20,
   "id": "8db79dad",
   "metadata": {},
   "outputs": [
    {
     "data": {
      "text/plain": [
       "defaultdict(int,\n",
       "            {'adam': 1,\n",
       "             'cray': 1,\n",
       "             'shail': 2,\n",
       "             'brain': 1,\n",
       "             'mark': 2,\n",
       "             'christ': 1,\n",
       "             'satya': 1,\n",
       "             'frans': 1,\n",
       "             'bill': 1})"
      ]
     },
     "execution_count": 20,
     "metadata": {},
     "output_type": "execute_result"
    }
   ],
   "source": [
    "names.countByValue()"
   ]
  },
  {
   "cell_type": "code",
   "execution_count": 21,
   "id": "dfc4a42f",
   "metadata": {},
   "outputs": [
    {
     "data": {
      "text/plain": [
       "11"
      ]
     },
     "execution_count": 21,
     "metadata": {},
     "output_type": "execute_result"
    }
   ],
   "source": [
    "names.count()"
   ]
  },
  {
   "cell_type": "code",
   "execution_count": 22,
   "id": "1cc29274",
   "metadata": {},
   "outputs": [
    {
     "data": {
      "text/plain": [
       "'adam'"
      ]
     },
     "execution_count": 22,
     "metadata": {},
     "output_type": "execute_result"
    }
   ],
   "source": [
    "names.first()"
   ]
  },
  {
   "cell_type": "code",
   "execution_count": 23,
   "id": "07fe4225",
   "metadata": {},
   "outputs": [
    {
     "data": {
      "text/plain": [
       "['shail', 'shail', 'satya', 'mark', 'mark']"
      ]
     },
     "execution_count": 23,
     "metadata": {},
     "output_type": "execute_result"
    }
   ],
   "source": [
    "names.top(5)"
   ]
  },
  {
   "cell_type": "code",
   "execution_count": 24,
   "id": "3630c027",
   "metadata": {},
   "outputs": [
    {
     "data": {
      "text/plain": [
       "['shail',\n",
       " 'shail',\n",
       " 'satya',\n",
       " 'mark',\n",
       " 'mark',\n",
       " 'frans',\n",
       " 'cray',\n",
       " 'christ',\n",
       " 'brain',\n",
       " 'bill']"
      ]
     },
     "execution_count": 24,
     "metadata": {},
     "output_type": "execute_result"
    }
   ],
   "source": [
    "names.top(10)"
   ]
  },
  {
   "cell_type": "code",
   "execution_count": 26,
   "id": "cf3a7064",
   "metadata": {},
   "outputs": [],
   "source": [
    "sc.stop()"
   ]
  },
  {
   "cell_type": "code",
   "execution_count": 27,
   "id": "b2612d7a",
   "metadata": {},
   "outputs": [],
   "source": [
    "sc=SparkContext()\n",
    "num=sc.parallelize([5,4,3,4,7,8,2],6)     #6 partition created"
   ]
  },
  {
   "cell_type": "code",
   "execution_count": 28,
   "id": "d31b796b",
   "metadata": {},
   "outputs": [
    {
     "data": {
      "text/plain": [
       "[[5], [4], [3], [4], [7], [8, 2]]"
      ]
     },
     "execution_count": 28,
     "metadata": {},
     "output_type": "execute_result"
    }
   ],
   "source": [
    "num.glom().collect()    #GLOM : RDD of Tupples    #"
   ]
  },
  {
   "cell_type": "code",
   "execution_count": 29,
   "id": "6a9af315",
   "metadata": {},
   "outputs": [
    {
     "data": {
      "text/plain": [
       "8"
      ]
     },
     "execution_count": 29,
     "metadata": {},
     "output_type": "execute_result"
    }
   ],
   "source": [
    "num.max()"
   ]
  },
  {
   "cell_type": "code",
   "execution_count": 30,
   "id": "ea72f75d",
   "metadata": {},
   "outputs": [
    {
     "data": {
      "text/plain": [
       "pyspark.rdd.PipelinedRDD"
      ]
     },
     "execution_count": 30,
     "metadata": {},
     "output_type": "execute_result"
    }
   ],
   "source": [
    "type(num.glom())"
   ]
  },
  {
   "cell_type": "code",
   "execution_count": 32,
   "id": "161007db",
   "metadata": {},
   "outputs": [
    {
     "data": {
      "text/plain": [
       "4.714285714285714"
      ]
     },
     "execution_count": 32,
     "metadata": {},
     "output_type": "execute_result"
    }
   ],
   "source": [
    "num.mean()"
   ]
  },
  {
   "cell_type": "code",
   "execution_count": 52,
   "id": "b7b58a45",
   "metadata": {},
   "outputs": [],
   "source": [
    "sc.stop()"
   ]
  },
  {
   "cell_type": "code",
   "execution_count": 53,
   "id": "7d7d7274",
   "metadata": {},
   "outputs": [],
   "source": [
    "sc=SparkContext()\n",
    "num1=sc.parallelize([5,4,3,4,7,8,2],2)"
   ]
  },
  {
   "cell_type": "code",
   "execution_count": 39,
   "id": "2d890469",
   "metadata": {},
   "outputs": [
    {
     "data": {
      "text/plain": [
       "[5, 4, 3, 4, 7, 8, 2]"
      ]
     },
     "execution_count": 39,
     "metadata": {},
     "output_type": "execute_result"
    }
   ],
   "source": [
    "num1.collect()"
   ]
  },
  {
   "cell_type": "code",
   "execution_count": 42,
   "id": "7416164b",
   "metadata": {},
   "outputs": [
    {
     "data": {
      "text/plain": [
       "33"
      ]
     },
     "execution_count": 42,
     "metadata": {},
     "output_type": "execute_result"
    }
   ],
   "source": [
    "num1.reduce(lambda a,b:a+b )"
   ]
  },
  {
   "cell_type": "code",
   "execution_count": 43,
   "id": "af087f57",
   "metadata": {},
   "outputs": [
    {
     "data": {
      "text/plain": [
       "26880"
      ]
     },
     "execution_count": 43,
     "metadata": {},
     "output_type": "execute_result"
    }
   ],
   "source": [
    "num1.reduce(lambda a,b:a*b )"
   ]
  },
  {
   "cell_type": "code",
   "execution_count": 44,
   "id": "f0e2c588",
   "metadata": {},
   "outputs": [
    {
     "data": {
      "text/plain": [
       "[2, 3, 4]"
      ]
     },
     "execution_count": 44,
     "metadata": {},
     "output_type": "execute_result"
    }
   ],
   "source": [
    "num1.takeOrdered(3)"
   ]
  },
  {
   "cell_type": "code",
   "execution_count": 45,
   "id": "b1aaa66a",
   "metadata": {},
   "outputs": [
    {
     "data": {
      "text/plain": [
       "[5, 4, 3, 4, 7, 8, 2]"
      ]
     },
     "execution_count": 45,
     "metadata": {},
     "output_type": "execute_result"
    }
   ],
   "source": [
    "num1.collect()"
   ]
  },
  {
   "cell_type": "code",
   "execution_count": 54,
   "id": "74f68d08",
   "metadata": {},
   "outputs": [
    {
     "data": {
      "text/plain": [
       "33"
      ]
     },
     "execution_count": 54,
     "metadata": {},
     "output_type": "execute_result"
    }
   ],
   "source": [
    "num1.fold(0, lambda a,b:a+b) "
   ]
  },
  {
   "cell_type": "code",
   "execution_count": 55,
   "id": "75e26b0d",
   "metadata": {},
   "outputs": [
    {
     "data": {
      "text/plain": [
       "39"
      ]
     },
     "execution_count": 55,
     "metadata": {},
     "output_type": "execute_result"
    }
   ],
   "source": [
    "num1.fold(2, lambda a,b:a+b)    #adding total values given in before lambda function en = 2 + 2 =4 +2 = 6 o/p of 2 fold"
   ]
  },
  {
   "cell_type": "code",
   "execution_count": 49,
   "id": "9b02c4ac",
   "metadata": {},
   "outputs": [
    {
     "data": {
      "text/plain": [
       "26880"
      ]
     },
     "execution_count": 49,
     "metadata": {},
     "output_type": "execute_result"
    }
   ],
   "source": [
    "num1.fold(1, lambda a,b:a*b)"
   ]
  },
  {
   "cell_type": "code",
   "execution_count": 56,
   "id": "49542b0d",
   "metadata": {},
   "outputs": [],
   "source": [
    "b=sc.parallelize(range(1,10))   # way of creating RDD"
   ]
  },
  {
   "cell_type": "code",
   "execution_count": 57,
   "id": "a3181637",
   "metadata": {},
   "outputs": [
    {
     "data": {
      "text/plain": [
       "[1, 2, 3, 4, 5, 6, 7, 8, 9]"
      ]
     },
     "execution_count": 57,
     "metadata": {},
     "output_type": "execute_result"
    }
   ],
   "source": [
    "b.collect()"
   ]
  },
  {
   "cell_type": "code",
   "execution_count": null,
   "id": "3af76834",
   "metadata": {},
   "outputs": [],
   "source": []
  }
 ],
 "metadata": {
  "kernelspec": {
   "display_name": "Python 3 (ipykernel)",
   "language": "python",
   "name": "python3"
  },
  "language_info": {
   "codemirror_mode": {
    "name": "ipython",
    "version": 3
   },
   "file_extension": ".py",
   "mimetype": "text/x-python",
   "name": "python",
   "nbconvert_exporter": "python",
   "pygments_lexer": "ipython3",
   "version": "3.9.7"
  }
 },
 "nbformat": 4,
 "nbformat_minor": 5
}
