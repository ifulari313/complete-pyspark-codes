{
 "cells": [
  {
   "cell_type": "markdown",
   "id": "39dd9cc9",
   "metadata": {},
   "source": [
    "# Pyspark Handling Missing Values"
   ]
  },
  {
   "cell_type": "markdown",
   "id": "cf75465b",
   "metadata": {},
   "source": [
    "* dropping columns\n",
    "* dropping rows\n",
    "* various parameter in dropping functionalities\n",
    "* handling missing values by mean median mode"
   ]
  },
  {
   "cell_type": "code",
   "execution_count": 1,
   "id": "034e99c5",
   "metadata": {},
   "outputs": [],
   "source": [
    "#pip install pyspark"
   ]
  },
  {
   "cell_type": "code",
   "execution_count": 2,
   "id": "6387872a",
   "metadata": {
    "scrolled": false
   },
   "outputs": [],
   "source": [
    "#pip install -q findspark"
   ]
  },
  {
   "cell_type": "code",
   "execution_count": 3,
   "id": "aa37d366",
   "metadata": {},
   "outputs": [],
   "source": [
    "import findspark\n",
    "findspark.init()"
   ]
  },
  {
   "cell_type": "code",
   "execution_count": 4,
   "id": "791d787a",
   "metadata": {},
   "outputs": [],
   "source": [
    "from pyspark.sql import SparkSession\n",
    "spark=SparkSession.builder.appName('Practice').getOrCreate()"
   ]
  },
  {
   "cell_type": "code",
   "execution_count": 7,
   "id": "549585aa",
   "metadata": {},
   "outputs": [],
   "source": [
    "df_pyspark=spark.read.csv(\"C:\\\\CSV Files\\\\csv1.csv\",header=True,inferSchema=True)"
   ]
  },
  {
   "cell_type": "code",
   "execution_count": 8,
   "id": "795a5f06",
   "metadata": {},
   "outputs": [
    {
     "name": "stdout",
     "output_type": "stream",
     "text": [
      "+-------+----+----------+------+\n",
      "|   Name| Age|Experience|salary|\n",
      "+-------+----+----------+------+\n",
      "|  Irfan|  26|         5| 22000|\n",
      "| Sandra|  32|         8| 12000|\n",
      "| Mehmad|  25|         6| 15000|\n",
      "| tamara|  19|         4| 19000|\n",
      "|  soham|  22|         3| 21000|\n",
      "|shubham|  24|         4| 24000|\n",
      "| mahesh|null|      null| 35000|\n",
      "|   null|  34|        10| 38000|\n",
      "|   null|  36|      null|  null|\n",
      "+-------+----+----------+------+\n",
      "\n"
     ]
    }
   ],
   "source": [
    "df_pyspark.show()"
   ]
  },
  {
   "cell_type": "code",
   "execution_count": null,
   "id": "077bea25",
   "metadata": {},
   "outputs": [],
   "source": [
    "##drop nullvalues"
   ]
  },
  {
   "cell_type": "code",
   "execution_count": 9,
   "id": "dcc0dfaf",
   "metadata": {},
   "outputs": [
    {
     "name": "stdout",
     "output_type": "stream",
     "text": [
      "+-------+---+----------+------+\n",
      "|   Name|Age|Experience|salary|\n",
      "+-------+---+----------+------+\n",
      "|  Irfan| 26|         5| 22000|\n",
      "| Sandra| 32|         8| 12000|\n",
      "| Mehmad| 25|         6| 15000|\n",
      "| tamara| 19|         4| 19000|\n",
      "|  soham| 22|         3| 21000|\n",
      "|shubham| 24|         4| 24000|\n",
      "+-------+---+----------+------+\n",
      "\n"
     ]
    }
   ],
   "source": [
    "df_pyspark.na.drop().show()    #this drop wherever is null values that row get dropped"
   ]
  },
  {
   "cell_type": "code",
   "execution_count": 10,
   "id": "d65d1ba0",
   "metadata": {},
   "outputs": [
    {
     "name": "stdout",
     "output_type": "stream",
     "text": [
      "+-------+----+----------+------+\n",
      "|   Name| Age|Experience|salary|\n",
      "+-------+----+----------+------+\n",
      "|  Irfan|  26|         5| 22000|\n",
      "| Sandra|  32|         8| 12000|\n",
      "| Mehmad|  25|         6| 15000|\n",
      "| tamara|  19|         4| 19000|\n",
      "|  soham|  22|         3| 21000|\n",
      "|shubham|  24|         4| 24000|\n",
      "| mahesh|null|      null| 35000|\n",
      "|   null|  34|        10| 38000|\n",
      "|   null|  36|      null|  null|\n",
      "+-------+----+----------+------+\n",
      "\n"
     ]
    }
   ],
   "source": [
    "#any == how\n",
    "\n",
    "df_pyspark.na.drop(how=\"all\").show()     #this command used if in a specific row all values are null then drop that row\n",
    "\n",
    "# df_pyspark.na.drop(how=\"any\").show() #this command used if in a specific row there is any values are null then drop that entire row"
   ]
  },
  {
   "cell_type": "code",
   "execution_count": null,
   "id": "2b84a6f3",
   "metadata": {},
   "outputs": [],
   "source": [
    "## threshold =2 e.g. =>  required atleast 2 \"non null\" values in that row and if condition satisfy then row get droped"
   ]
  },
  {
   "cell_type": "code",
   "execution_count": 11,
   "id": "c62dd633",
   "metadata": {},
   "outputs": [
    {
     "name": "stdout",
     "output_type": "stream",
     "text": [
      "+-------+----+----------+------+\n",
      "|   Name| Age|Experience|salary|\n",
      "+-------+----+----------+------+\n",
      "|  Irfan|  26|         5| 22000|\n",
      "| Sandra|  32|         8| 12000|\n",
      "| Mehmad|  25|         6| 15000|\n",
      "| tamara|  19|         4| 19000|\n",
      "|  soham|  22|         3| 21000|\n",
      "|shubham|  24|         4| 24000|\n",
      "| mahesh|null|      null| 35000|\n",
      "|   null|  34|        10| 38000|\n",
      "+-------+----+----------+------+\n",
      "\n"
     ]
    }
   ],
   "source": [
    "df_pyspark.na.drop(how=\"any\", thresh=2).show() "
   ]
  },
  {
   "cell_type": "code",
   "execution_count": 13,
   "id": "016ca23a",
   "metadata": {},
   "outputs": [],
   "source": [
    "### subset     #it drops null value containing row, for a specific column"
   ]
  },
  {
   "cell_type": "code",
   "execution_count": 12,
   "id": "db0f9794",
   "metadata": {},
   "outputs": [
    {
     "name": "stdout",
     "output_type": "stream",
     "text": [
      "+-------+---+----------+------+\n",
      "|   Name|Age|Experience|salary|\n",
      "+-------+---+----------+------+\n",
      "|  Irfan| 26|         5| 22000|\n",
      "| Sandra| 32|         8| 12000|\n",
      "| Mehmad| 25|         6| 15000|\n",
      "| tamara| 19|         4| 19000|\n",
      "|  soham| 22|         3| 21000|\n",
      "|shubham| 24|         4| 24000|\n",
      "|   null| 34|        10| 38000|\n",
      "+-------+---+----------+------+\n",
      "\n"
     ]
    }
   ],
   "source": [
    "df_pyspark.na.drop(how=\"any\",subset=['Experience']).show()    #['Age'], ['Name']"
   ]
  },
  {
   "cell_type": "code",
   "execution_count": null,
   "id": "f128dfc3",
   "metadata": {},
   "outputs": [],
   "source": [
    "#filling missing values"
   ]
  },
  {
   "cell_type": "code",
   "execution_count": 17,
   "id": "7349319b",
   "metadata": {},
   "outputs": [
    {
     "name": "stdout",
     "output_type": "stream",
     "text": [
      "+--------------+----+----------+------+\n",
      "|          Name| Age|Experience|salary|\n",
      "+--------------+----+----------+------+\n",
      "|         Irfan|  26|         5| 22000|\n",
      "|        Sandra|  32|         8| 12000|\n",
      "|        Mehmad|  25|         6| 15000|\n",
      "|        tamara|  19|         4| 19000|\n",
      "|         soham|  22|         3| 21000|\n",
      "|       shubham|  24|         4| 24000|\n",
      "|        mahesh|null|      null| 35000|\n",
      "|Missing Values|  34|        10| 38000|\n",
      "|Missing Values|  36|      null|  null|\n",
      "+--------------+----+----------+------+\n",
      "\n"
     ]
    }
   ],
   "source": [
    "df_pyspark.na.fill('Missing Values').show()      #fill with \"missing value\""
   ]
  },
  {
   "cell_type": "code",
   "execution_count": 19,
   "id": "1a7f083a",
   "metadata": {},
   "outputs": [
    {
     "name": "stdout",
     "output_type": "stream",
     "text": [
      "+-------+----+----------+------+\n",
      "|   Name| Age|Experience|salary|\n",
      "+-------+----+----------+------+\n",
      "|  Irfan|  26|         5| 22000|\n",
      "| Sandra|  32|         8| 12000|\n",
      "| Mehmad|  25|         6| 15000|\n",
      "| tamara|  19|         4| 19000|\n",
      "|  soham|  22|         3| 21000|\n",
      "|shubham|  24|         4| 24000|\n",
      "| mahesh|null|      null| 35000|\n",
      "|   null|  34|        10| 38000|\n",
      "|   null|  36|      null|  null|\n",
      "+-------+----+----------+------+\n",
      "\n"
     ]
    }
   ],
   "source": [
    "df_pyspark.na.fill('Missing Values',['Age','Experience']).show()"
   ]
  },
  {
   "cell_type": "code",
   "execution_count": 20,
   "id": "3a25f4d5",
   "metadata": {},
   "outputs": [
    {
     "name": "stdout",
     "output_type": "stream",
     "text": [
      "+-------+----+----------+------+\n",
      "|   Name| Age|Experience|salary|\n",
      "+-------+----+----------+------+\n",
      "|  Irfan|  26|         5| 22000|\n",
      "| Sandra|  32|         8| 12000|\n",
      "| Mehmad|  25|         6| 15000|\n",
      "| tamara|  19|         4| 19000|\n",
      "|  soham|  22|         3| 21000|\n",
      "|shubham|  24|         4| 24000|\n",
      "| mahesh|null|      null| 35000|\n",
      "|   null|  34|        10| 38000|\n",
      "|   null|  36|      null|  null|\n",
      "+-------+----+----------+------+\n",
      "\n"
     ]
    }
   ],
   "source": [
    "df_pyspark.show()"
   ]
  },
  {
   "cell_type": "code",
   "execution_count": null,
   "id": "d0e66a83",
   "metadata": {},
   "outputs": [],
   "source": [
    "#fill null values with imputer "
   ]
  },
  {
   "cell_type": "code",
   "execution_count": 21,
   "id": "1aac22dc",
   "metadata": {},
   "outputs": [],
   "source": [
    "from pyspark.ml.feature import Imputer"
   ]
  },
  {
   "cell_type": "code",
   "execution_count": 26,
   "id": "596e3313",
   "metadata": {},
   "outputs": [],
   "source": [
    "imputer= Imputer(\n",
    "    inputCols=['Age','Experience','salary'],\n",
    "    outputCols=[\"{}_imputed\".format(c) for c in ['Age','Experience','salary']]\n",
    "    ).setStrategy(\"mean\")   \n",
    "\n",
    "\n",
    "        # median or mode also can use\n"
   ]
  },
  {
   "cell_type": "code",
   "execution_count": 27,
   "id": "d69acb2c",
   "metadata": {
    "scrolled": true
   },
   "outputs": [
    {
     "name": "stdout",
     "output_type": "stream",
     "text": [
      "+-------+----+----------+------+-----------+------------------+--------------+\n",
      "|   Name| Age|Experience|salary|Age_imputed|Experience_imputed|salary_imputed|\n",
      "+-------+----+----------+------+-----------+------------------+--------------+\n",
      "|  Irfan|  26|         5| 22000|         26|                 5|         22000|\n",
      "| Sandra|  32|         8| 12000|         32|                 8|         12000|\n",
      "| Mehmad|  25|         6| 15000|         25|                 6|         15000|\n",
      "| tamara|  19|         4| 19000|         19|                 4|         19000|\n",
      "|  soham|  22|         3| 21000|         22|                 3|         21000|\n",
      "|shubham|  24|         4| 24000|         24|                 4|         24000|\n",
      "| mahesh|null|      null| 35000|         27|                 5|         35000|\n",
      "|   null|  34|        10| 38000|         34|                10|         38000|\n",
      "|   null|  36|      null|  null|         36|                 5|         23250|\n",
      "+-------+----+----------+------+-----------+------------------+--------------+\n",
      "\n"
     ]
    }
   ],
   "source": [
    "# Add imputation cols to df \n",
    "imputer.fit(df_pyspark).transform(df_pyspark).show()   #this create new columns with _imputed "
   ]
  },
  {
   "cell_type": "code",
   "execution_count": null,
   "id": "a69d17c5",
   "metadata": {},
   "outputs": [],
   "source": []
  },
  {
   "cell_type": "code",
   "execution_count": null,
   "id": "89fd34ef",
   "metadata": {},
   "outputs": [],
   "source": []
  },
  {
   "cell_type": "code",
   "execution_count": null,
   "id": "bcde2cf4",
   "metadata": {},
   "outputs": [],
   "source": []
  },
  {
   "cell_type": "code",
   "execution_count": null,
   "id": "0d3ee29d",
   "metadata": {},
   "outputs": [],
   "source": []
  },
  {
   "cell_type": "code",
   "execution_count": null,
   "id": "00e0f982",
   "metadata": {},
   "outputs": [],
   "source": []
  },
  {
   "cell_type": "code",
   "execution_count": null,
   "id": "3a4edef3",
   "metadata": {},
   "outputs": [],
   "source": []
  },
  {
   "cell_type": "code",
   "execution_count": null,
   "id": "081bc757",
   "metadata": {},
   "outputs": [],
   "source": []
  }
 ],
 "metadata": {
  "kernelspec": {
   "display_name": "Python 3 (ipykernel)",
   "language": "python",
   "name": "python3"
  },
  "language_info": {
   "codemirror_mode": {
    "name": "ipython",
    "version": 3
   },
   "file_extension": ".py",
   "mimetype": "text/x-python",
   "name": "python",
   "nbconvert_exporter": "python",
   "pygments_lexer": "ipython3",
   "version": "3.9.7"
  }
 },
 "nbformat": 4,
 "nbformat_minor": 5
}
