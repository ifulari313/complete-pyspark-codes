{
 "cells": [
  {
   "cell_type": "code",
   "execution_count": 1,
   "id": "e735eeb9",
   "metadata": {},
   "outputs": [
    {
     "data": {
      "text/plain": [
       "'C:\\\\bin\\\\spark-3.3.0-bin-hadoop2'"
      ]
     },
     "execution_count": 1,
     "metadata": {},
     "output_type": "execute_result"
    }
   ],
   "source": [
    "import findspark\n",
    "findspark.init()\n",
    "findspark.find()"
   ]
  },
  {
   "cell_type": "code",
   "execution_count": 2,
   "id": "6de092b5",
   "metadata": {},
   "outputs": [],
   "source": [
    "from pyspark import SparkContext, SparkConf"
   ]
  },
  {
   "cell_type": "code",
   "execution_count": 3,
   "id": "e66cd0dd",
   "metadata": {},
   "outputs": [],
   "source": [
    "conf=SparkConf().setAppName(\"sql\").setMaster(\"local\")\n",
    "sc=SparkContext(conf=conf)"
   ]
  },
  {
   "cell_type": "code",
   "execution_count": 4,
   "id": "ee540681",
   "metadata": {},
   "outputs": [],
   "source": [
    "from pyspark.sql import SparkSession"
   ]
  },
  {
   "cell_type": "code",
   "execution_count": 6,
   "id": "2bacc378",
   "metadata": {},
   "outputs": [],
   "source": [
    "spark = SparkSession.builder.appName(\"sqll\").getOrCreate()"
   ]
  },
  {
   "cell_type": "code",
   "execution_count": 12,
   "id": "d96312d1",
   "metadata": {},
   "outputs": [],
   "source": [
    "df = spark.read.csv('pseudo_facebook.csv',header=True, inferSchema=True)"
   ]
  },
  {
   "cell_type": "code",
   "execution_count": 13,
   "id": "8e5c2cf2",
   "metadata": {},
   "outputs": [
    {
     "name": "stdout",
     "output_type": "stream",
     "text": [
      "+-------+---+-------+--------+---------+------+------+------------+---------------------+-----+--------------+------------+---------------------+---------+------------------+\n",
      "| userid|age|dob_day|dob_year|dob_month|gender|tenure|friend_count|friendships_initiated|likes|likes_received|mobile_likes|mobile_likes_received|www_likes|www_likes_received|\n",
      "+-------+---+-------+--------+---------+------+------+------------+---------------------+-----+--------------+------------+---------------------+---------+------------------+\n",
      "|2094382| 14|     19|    1999|       11|  male|   266|           0|                    0|    0|             0|           0|                    0|        0|                 0|\n",
      "|1192601| 14|      2|    1999|       11|female|     6|           0|                    0|    0|             0|           0|                    0|        0|                 0|\n",
      "|2083884| 14|     16|    1999|       11|  male|    13|           0|                    0|    0|             0|           0|                    0|        0|                 0|\n",
      "|1203168| 14|     25|    1999|       12|female|    93|           0|                    0|    0|             0|           0|                    0|        0|                 0|\n",
      "|1733186| 14|      4|    1999|       12|  male|    82|           0|                    0|    0|             0|           0|                    0|        0|                 0|\n",
      "+-------+---+-------+--------+---------+------+------+------------+---------------------+-----+--------------+------------+---------------------+---------+------------------+\n",
      "only showing top 5 rows\n",
      "\n"
     ]
    }
   ],
   "source": [
    "df.show(5)"
   ]
  },
  {
   "cell_type": "code",
   "execution_count": 14,
   "id": "5e9c6f8b",
   "metadata": {},
   "outputs": [],
   "source": [
    "df.createOrReplaceTempView(\"fb\")       # created a view to this dataframe"
   ]
  },
  {
   "cell_type": "code",
   "execution_count": 15,
   "id": "2af77286",
   "metadata": {},
   "outputs": [
    {
     "name": "stdout",
     "output_type": "stream",
     "text": [
      "+-------+---+-------+--------+---------+------+------+------------+---------------------+-----+--------------+------------+---------------------+---------+------------------+\n",
      "| userid|age|dob_day|dob_year|dob_month|gender|tenure|friend_count|friendships_initiated|likes|likes_received|mobile_likes|mobile_likes_received|www_likes|www_likes_received|\n",
      "+-------+---+-------+--------+---------+------+------+------------+---------------------+-----+--------------+------------+---------------------+---------+------------------+\n",
      "|2094382| 14|     19|    1999|       11|  male|   266|           0|                    0|    0|             0|           0|                    0|        0|                 0|\n",
      "|1192601| 14|      2|    1999|       11|female|     6|           0|                    0|    0|             0|           0|                    0|        0|                 0|\n",
      "|2083884| 14|     16|    1999|       11|  male|    13|           0|                    0|    0|             0|           0|                    0|        0|                 0|\n",
      "|1203168| 14|     25|    1999|       12|female|    93|           0|                    0|    0|             0|           0|                    0|        0|                 0|\n",
      "|1733186| 14|      4|    1999|       12|  male|    82|           0|                    0|    0|             0|           0|                    0|        0|                 0|\n",
      "|1524765| 14|      1|    1999|       12|  male|    15|           0|                    0|    0|             0|           0|                    0|        0|                 0|\n",
      "|1136133| 13|     14|    2000|        1|  male|    12|           0|                    0|    0|             0|           0|                    0|        0|                 0|\n",
      "|1680361| 13|      4|    2000|        1|female|     0|           0|                    0|    0|             0|           0|                    0|        0|                 0|\n",
      "|1365174| 13|      1|    2000|        1|  male|    81|           0|                    0|    0|             0|           0|                    0|        0|                 0|\n",
      "|1712567| 13|      2|    2000|        2|  male|   171|           0|                    0|    0|             0|           0|                    0|        0|                 0|\n",
      "|1612453| 13|     22|    2000|        2|  male|    98|           0|                    0|    0|             0|           0|                    0|        0|                 0|\n",
      "|2104073| 13|      1|    2000|        2|  male|    55|           0|                    0|    0|             0|           0|                    0|        0|                 0|\n",
      "|1918584| 13|      5|    2000|        3|  male|   106|           0|                    0|    0|             0|           0|                    0|        0|                 0|\n",
      "|1704433| 13|     21|    2000|        3|  male|    61|           0|                    0|    0|             0|           0|                    0|        0|                 0|\n",
      "|1932519| 13|     28|    2000|        3|female|     0|           0|                    0|    0|             0|           0|                    0|        0|                 0|\n",
      "|1751722| 13|      7|    2000|        4|female|    16|           0|                    0|    0|             0|           0|                    0|        0|                 0|\n",
      "|1470850| 13|     30|    2000|        5|female|    34|           0|                    0|    0|             0|           0|                    0|        0|                 0|\n",
      "|1001768| 13|     23|    2000|        5|female|    25|           0|                    0|    0|             0|           0|                    0|        0|                 0|\n",
      "|1537661| 13|     16|    2000|        5|female|     4|           0|                    0|    0|             0|           0|                    0|        0|                 0|\n",
      "|1020296| 13|     13|    2000|        8|  male|     9|           0|                    0|    0|             0|           0|                    0|        0|                 0|\n",
      "+-------+---+-------+--------+---------+------+------+------------+---------------------+-----+--------------+------------+---------------------+---------+------------------+\n",
      "only showing top 20 rows\n",
      "\n"
     ]
    }
   ],
   "source": [
    "spark.sql(\"select * from fb\").show()"
   ]
  },
  {
   "cell_type": "code",
   "execution_count": 16,
   "id": "e923c933",
   "metadata": {},
   "outputs": [
    {
     "name": "stdout",
     "output_type": "stream",
     "text": [
      "+--------+\n",
      "|count(1)|\n",
      "+--------+\n",
      "|   99003|\n",
      "+--------+\n",
      "\n"
     ]
    }
   ],
   "source": [
    "spark.sql(\"select count(*) from fb\").show()"
   ]
  },
  {
   "cell_type": "code",
   "execution_count": 17,
   "id": "50082b8f",
   "metadata": {},
   "outputs": [
    {
     "name": "stdout",
     "output_type": "stream",
     "text": [
      "+-----------------+\n",
      "|         avg(age)|\n",
      "+-----------------+\n",
      "|37.28022383160106|\n",
      "+-----------------+\n",
      "\n"
     ]
    }
   ],
   "source": [
    "spark.sql(\"select avg(age) from fb\").show()"
   ]
  },
  {
   "cell_type": "code",
   "execution_count": 19,
   "id": "9d05ad05",
   "metadata": {},
   "outputs": [
    {
     "name": "stdout",
     "output_type": "stream",
     "text": [
      "+------------------+------+\n",
      "|          avg(age)|gender|\n",
      "+------------------+------+\n",
      "| 74.77714285714286|    NA|\n",
      "|39.459904605753465|female|\n",
      "| 35.67024618431386|  male|\n",
      "+------------------+------+\n",
      "\n"
     ]
    }
   ],
   "source": [
    "spark.sql(\"select avg(age), gender from fb group by gender\").show()"
   ]
  },
  {
   "cell_type": "code",
   "execution_count": 20,
   "id": "e2414fd5",
   "metadata": {},
   "outputs": [
    {
     "name": "stdout",
     "output_type": "stream",
     "text": [
      "47.28022383160106\n"
     ]
    }
   ],
   "source": [
    "x = spark.sql(\"select avg(age) from fb\").collect()[0][0]   # convert in to 2d array\n",
    "print(x+10)     #37.28022 + 10"
   ]
  },
  {
   "cell_type": "code",
   "execution_count": 21,
   "id": "ff77f262",
   "metadata": {},
   "outputs": [
    {
     "name": "stdout",
     "output_type": "stream",
     "text": [
      "+------------------+------+\n",
      "|          avg_like|gender|\n",
      "+------------------+------+\n",
      "| 67.91154778570697|  male|\n",
      "|157.38285714285715|    NA|\n",
      "| 251.4354349878273|female|\n",
      "+------------------+------+\n",
      "\n"
     ]
    }
   ],
   "source": [
    "spark.sql(\"select avg(likes_received) as avg_like, gender from fb group by gender order by avg_like\").show()"
   ]
  },
  {
   "cell_type": "code",
   "execution_count": 22,
   "id": "b7fdc62f",
   "metadata": {},
   "outputs": [
    {
     "name": "stdout",
     "output_type": "stream",
     "text": [
      "+-----------------+\n",
      "|avg(friend_count)|\n",
      "+-----------------+\n",
      "|268.5517990880525|\n",
      "+-----------------+\n",
      "\n"
     ]
    }
   ],
   "source": [
    "spark.sql(\"select avg(friend_count) from fb where age>=13 and age<=25\").show()"
   ]
  },
  {
   "cell_type": "code",
   "execution_count": 23,
   "id": "3464beeb",
   "metadata": {},
   "outputs": [
    {
     "name": "stdout",
     "output_type": "stream",
     "text": [
      "+------------------+\n",
      "| avg(friend_count)|\n",
      "+------------------+\n",
      "|107.02898996737859|\n",
      "+------------------+\n",
      "\n"
     ]
    }
   ],
   "source": [
    "spark.sql(\"select avg(friend_count) from fb where age>=30 and age<=60\").show()"
   ]
  },
  {
   "cell_type": "code",
   "execution_count": 24,
   "id": "e896e088",
   "metadata": {},
   "outputs": [
    {
     "name": "stdout",
     "output_type": "stream",
     "text": [
      "+------------------+-----------------+\n",
      "| avg(mobile_likes)|   avg(www_likes)|\n",
      "+------------------+-----------------+\n",
      "|123.98981737425284|55.50010631511801|\n",
      "+------------------+-----------------+\n",
      "\n"
     ]
    }
   ],
   "source": [
    "spark.sql(\"select avg(mobile_likes), avg(www_likes) from fb where age>=13 and age<=25\").show()"
   ]
  },
  {
   "cell_type": "code",
   "execution_count": 25,
   "id": "14f77417",
   "metadata": {},
   "outputs": [
    {
     "name": "stdout",
     "output_type": "stream",
     "text": [
      "+-----------------+------------------+\n",
      "|avg(mobile_likes)|    avg(www_likes)|\n",
      "+-----------------+------------------+\n",
      "|95.63362915042437|27.614387216278235|\n",
      "+-----------------+------------------+\n",
      "\n"
     ]
    }
   ],
   "source": [
    "spark.sql(\"select avg(mobile_likes), avg(www_likes) from fb where age>=25 and age<=50\").show()"
   ]
  },
  {
   "cell_type": "code",
   "execution_count": 34,
   "id": "51e6f574",
   "metadata": {},
   "outputs": [
    {
     "name": "stdout",
     "output_type": "stream",
     "text": [
      "+---+------------------+\n",
      "|age| avg(friend_count)|\n",
      "+---+------------------+\n",
      "|113|334.66831683168317|\n",
      "|112|484.94444444444446|\n",
      "|111|240.22222222222223|\n",
      "|110|336.73333333333335|\n",
      "|109|172.88888888888889|\n",
      "|108| 369.2426249247441|\n",
      "|107| 363.1020408163265|\n",
      "|106|           312.096|\n",
      "|105|          398.5625|\n",
      "|104| 429.5068493150685|\n",
      "|103| 462.5057471264368|\n",
      "|102|446.85026737967917|\n",
      "|101| 393.6496815286624|\n",
      "|100| 356.2123076923077|\n",
      "| 99| 402.7831325301205|\n",
      "| 98|423.97849462365593|\n",
      "| 97| 435.2857142857143|\n",
      "| 96|476.42857142857144|\n",
      "| 95| 413.3246753246753|\n",
      "| 94|439.70108695652175|\n",
      "| 93|263.95073891625617|\n",
      "| 92| 412.0576923076923|\n",
      "| 91| 349.2105263157895|\n",
      "| 90| 268.9718309859155|\n",
      "| 89| 409.3833333333333|\n",
      "| 88|392.11475409836066|\n",
      "| 87|             328.5|\n",
      "| 86|362.36842105263156|\n",
      "| 85| 301.7951807228916|\n",
      "| 84| 333.8488372093023|\n",
      "| 83| 254.2565789473684|\n",
      "| 82|166.83333333333334|\n",
      "| 81|133.19444444444446|\n",
      "| 80|276.79411764705884|\n",
      "| 79| 89.57142857142857|\n",
      "| 78| 149.2716049382716|\n",
      "| 77|148.98224852071007|\n",
      "| 76| 88.87640449438203|\n",
      "| 75|103.44635193133047|\n",
      "| 74| 146.1423487544484|\n",
      "| 73|118.15454545454546|\n",
      "| 72| 84.02364864864865|\n",
      "| 71|115.60511363636364|\n",
      "| 70| 85.52602739726028|\n",
      "| 69| 95.08478260869565|\n",
      "| 68|319.28959810874704|\n",
      "| 67| 88.40894039735099|\n",
      "| 66|111.46088193456615|\n",
      "| 65|  97.4011544011544|\n",
      "| 64|111.47390691114245|\n",
      "| 63|126.71664829106946|\n",
      "| 62|111.59510869565217|\n",
      "| 61|118.11899038461539|\n",
      "| 60|112.91711229946524|\n",
      "| 59|102.29136690647482|\n",
      "| 58|115.36954087346025|\n",
      "| 57|110.13841201716738|\n",
      "| 56|106.57403189066059|\n",
      "| 55|112.96864864864865|\n",
      "| 54|103.60252365930599|\n",
      "| 53|112.28775167785236|\n",
      "| 52|108.24422110552764|\n",
      "| 51| 101.5664263645726|\n",
      "| 50|125.26501035196688|\n",
      "| 49| 104.7739221871714|\n",
      "| 48|109.52678571428571|\n",
      "| 47|106.98337028824834|\n",
      "| 46|108.15041128084606|\n",
      "| 45|103.88014527845036|\n",
      "| 44|  97.3933865450399|\n",
      "| 43|100.45813734713076|\n",
      "| 42| 94.12814371257485|\n",
      "| 41| 96.89263420724095|\n",
      "| 40|  87.7185628742515|\n",
      "| 39|100.81929046563192|\n",
      "| 38|109.65878070973612|\n",
      "| 37|101.35706914344685|\n",
      "| 36|104.37745974955277|\n",
      "| 35| 99.32936170212766|\n",
      "| 34|108.86157517899761|\n",
      "| 33|103.86393196598299|\n",
      "| 32|114.27997227997228|\n",
      "| 31|118.45985832349469|\n",
      "| 30|115.20804195804196|\n",
      "| 29|120.81818181818181|\n",
      "| 28|  125.835448392555|\n",
      "| 27|134.14732142857142|\n",
      "| 26| 144.0081705150977|\n",
      "| 25|131.02114803625378|\n",
      "| 24|185.71206225680933|\n",
      "| 23|202.84264305177112|\n",
      "| 22| 211.3947889182058|\n",
      "| 21|235.94116044674476|\n",
      "| 20|283.49907137171664|\n",
      "| 19|333.69209747210203|\n",
      "| 18| 331.1662817551963|\n",
      "| 17|350.30063965884864|\n",
      "| 16|351.93713545042124|\n",
      "| 15|347.69213139801377|\n",
      "| 14|251.39012987012987|\n",
      "+---+------------------+\n",
      "only showing top 100 rows\n",
      "\n"
     ]
    }
   ],
   "source": [
    "df.groupby(\"age\").avg(\"friend_count\").orderBy(\"age\", ascending = False).show(100)"
   ]
  },
  {
   "cell_type": "code",
   "execution_count": null,
   "id": "e0ab7a62",
   "metadata": {},
   "outputs": [],
   "source": []
  }
 ],
 "metadata": {
  "kernelspec": {
   "display_name": "Python 3 (ipykernel)",
   "language": "python",
   "name": "python3"
  },
  "language_info": {
   "codemirror_mode": {
    "name": "ipython",
    "version": 3
   },
   "file_extension": ".py",
   "mimetype": "text/x-python",
   "name": "python",
   "nbconvert_exporter": "python",
   "pygments_lexer": "ipython3",
   "version": "3.9.7"
  }
 },
 "nbformat": 4,
 "nbformat_minor": 5
}
