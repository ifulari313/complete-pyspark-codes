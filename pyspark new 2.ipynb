{
 "cells": [
  {
   "cell_type": "markdown",
   "id": "85b5bd74",
   "metadata": {},
   "source": [
    "pyspark dataframe\n",
    "reading the dataset\n",
    "checking the datatypes of columns(Schema)\n",
    "selecting columns and indexing\n",
    "check describe option similar to pandas\n",
    "adding columns\n",
    "dropping columns"
   ]
  },
  {
   "cell_type": "code",
   "execution_count": 7,
   "id": "5b1e81f4",
   "metadata": {},
   "outputs": [
    {
     "name": "stdout",
     "output_type": "stream",
     "text": [
      "Note: you may need to restart the kernel to use updated packages.\n"
     ]
    },
    {
     "name": "stderr",
     "output_type": "stream",
     "text": [
      "WARNING: Ignoring invalid distribution -yspark (c:\\users\\dell\\anaconda3\\lib\\site-packages)\n",
      "WARNING: Ignoring invalid distribution -yspark (c:\\users\\dell\\anaconda3\\lib\\site-packages)\n",
      "WARNING: Ignoring invalid distribution -yspark (c:\\users\\dell\\anaconda3\\lib\\site-packages)\n",
      "WARNING: Ignoring invalid distribution -yspark (c:\\users\\dell\\anaconda3\\lib\\site-packages)\n",
      "WARNING: Ignoring invalid distribution -yspark (c:\\users\\dell\\anaconda3\\lib\\site-packages)\n",
      "WARNING: Ignoring invalid distribution -yspark (c:\\users\\dell\\anaconda3\\lib\\site-packages)\n"
     ]
    }
   ],
   "source": [
    "pip install -q findspark"
   ]
  },
  {
   "cell_type": "code",
   "execution_count": 1,
   "id": "ddac208f",
   "metadata": {},
   "outputs": [],
   "source": [
    "#1st step build pyspark session"
   ]
  },
  {
   "cell_type": "code",
   "execution_count": 2,
   "id": "b9c6be76",
   "metadata": {},
   "outputs": [],
   "source": [
    "import findspark\n",
    "findspark.init()"
   ]
  },
  {
   "cell_type": "code",
   "execution_count": 3,
   "id": "5a9d4dbb",
   "metadata": {},
   "outputs": [],
   "source": [
    "import pyspark"
   ]
  },
  {
   "cell_type": "code",
   "execution_count": 4,
   "id": "703bd170",
   "metadata": {},
   "outputs": [],
   "source": [
    "from pyspark.sql import SparkSession"
   ]
  },
  {
   "cell_type": "code",
   "execution_count": 5,
   "id": "b4b04091",
   "metadata": {},
   "outputs": [],
   "source": [
    "spark=SparkSession.builder.appName('DataFrame').getOrCreate()"
   ]
  },
  {
   "cell_type": "code",
   "execution_count": 6,
   "id": "ebdaad03",
   "metadata": {},
   "outputs": [
    {
     "data": {
      "text/html": [
       "\n",
       "            <div>\n",
       "                <p><b>SparkSession - in-memory</b></p>\n",
       "                \n",
       "        <div>\n",
       "            <p><b>SparkContext</b></p>\n",
       "\n",
       "            <p><a href=\"http://DESKTOP-Q65EH73:4041\">Spark UI</a></p>\n",
       "\n",
       "            <dl>\n",
       "              <dt>Version</dt>\n",
       "                <dd><code>v3.3.0</code></dd>\n",
       "              <dt>Master</dt>\n",
       "                <dd><code>local[*]</code></dd>\n",
       "              <dt>AppName</dt>\n",
       "                <dd><code>DataFrame</code></dd>\n",
       "            </dl>\n",
       "        </div>\n",
       "        \n",
       "            </div>\n",
       "        "
      ],
      "text/plain": [
       "<pyspark.sql.session.SparkSession at 0x28c06e2c760>"
      ]
     },
     "execution_count": 6,
     "metadata": {},
     "output_type": "execute_result"
    }
   ],
   "source": [
    "spark"
   ]
  },
  {
   "cell_type": "code",
   "execution_count": 7,
   "id": "b3dd93bd",
   "metadata": {},
   "outputs": [],
   "source": [
    "## read dataset"
   ]
  },
  {
   "cell_type": "code",
   "execution_count": 12,
   "id": "88546a9e",
   "metadata": {},
   "outputs": [],
   "source": [
    "df_pyspark=spark.read.option('header','true').csv(\"C:\\\\CSV Files\\\\for_pyspa.csv\", inferSchema=True)  #inferschema for changing data type string to integer"
   ]
  },
  {
   "cell_type": "code",
   "execution_count": 13,
   "id": "ac55adbf",
   "metadata": {},
   "outputs": [
    {
     "name": "stdout",
     "output_type": "stream",
     "text": [
      "+------+---+----------+\n",
      "|  Name|Age|Experience|\n",
      "+------+---+----------+\n",
      "| Irfan| 26|         5|\n",
      "|Sandra| 32|         8|\n",
      "|Mehmad| 25|         6|\n",
      "|tamara| 19|         4|\n",
      "+------+---+----------+\n",
      "\n"
     ]
    }
   ],
   "source": [
    "df_pyspark.show()"
   ]
  },
  {
   "cell_type": "code",
   "execution_count": 14,
   "id": "c8e15486",
   "metadata": {},
   "outputs": [],
   "source": [
    "#check schema #like df.info() in pandas"
   ]
  },
  {
   "cell_type": "code",
   "execution_count": 15,
   "id": "da4e5c48",
   "metadata": {},
   "outputs": [
    {
     "name": "stdout",
     "output_type": "stream",
     "text": [
      "root\n",
      " |-- Name: string (nullable = true)\n",
      " |-- Age: integer (nullable = true)\n",
      " |-- Experience: integer (nullable = true)\n",
      "\n"
     ]
    }
   ],
   "source": [
    "df_pyspark.printSchema()"
   ]
  },
  {
   "cell_type": "code",
   "execution_count": 16,
   "id": "d7df0e88",
   "metadata": {},
   "outputs": [],
   "source": [
    "#2nd way"
   ]
  },
  {
   "cell_type": "code",
   "execution_count": 18,
   "id": "e89fa80e",
   "metadata": {},
   "outputs": [
    {
     "name": "stdout",
     "output_type": "stream",
     "text": [
      "+------+---+----------+\n",
      "|  Name|Age|Experience|\n",
      "+------+---+----------+\n",
      "| Irfan| 26|         5|\n",
      "|Sandra| 32|         8|\n",
      "|Mehmad| 25|         6|\n",
      "|tamara| 19|         4|\n",
      "+------+---+----------+\n",
      "\n"
     ]
    }
   ],
   "source": [
    "df_pyspark=spark.read.csv(\"C:\\\\CSV Files\\\\for_pyspa.csv\",header=True,inferSchema=True)\n",
    "df_pyspark.show()"
   ]
  },
  {
   "cell_type": "code",
   "execution_count": 19,
   "id": "bef36db8",
   "metadata": {},
   "outputs": [
    {
     "name": "stdout",
     "output_type": "stream",
     "text": [
      "root\n",
      " |-- Name: string (nullable = true)\n",
      " |-- Age: integer (nullable = true)\n",
      " |-- Experience: integer (nullable = true)\n",
      "\n"
     ]
    }
   ],
   "source": [
    "df_pyspark.printSchema()"
   ]
  },
  {
   "cell_type": "code",
   "execution_count": 20,
   "id": "ce588755",
   "metadata": {},
   "outputs": [
    {
     "data": {
      "text/plain": [
       "pyspark.sql.dataframe.DataFrame"
      ]
     },
     "execution_count": 20,
     "metadata": {},
     "output_type": "execute_result"
    }
   ],
   "source": [
    "type(df_pyspark)"
   ]
  },
  {
   "cell_type": "code",
   "execution_count": 21,
   "id": "92497760",
   "metadata": {},
   "outputs": [
    {
     "data": {
      "text/plain": [
       "['Name', 'Age', 'Experience']"
      ]
     },
     "execution_count": 21,
     "metadata": {},
     "output_type": "execute_result"
    }
   ],
   "source": [
    "df_pyspark.columns"
   ]
  },
  {
   "cell_type": "code",
   "execution_count": 23,
   "id": "6a6af60b",
   "metadata": {},
   "outputs": [
    {
     "data": {
      "text/plain": [
       "[Row(Name='Irfan', Age=26, Experience=5),\n",
       " Row(Name='Sandra', Age=32, Experience=8),\n",
       " Row(Name='Mehmad', Age=25, Experience=6),\n",
       " Row(Name='tamara', Age=19, Experience=4)]"
      ]
     },
     "execution_count": 23,
     "metadata": {},
     "output_type": "execute_result"
    }
   ],
   "source": [
    "df_pyspark.head(5)"
   ]
  },
  {
   "cell_type": "code",
   "execution_count": 25,
   "id": "aca9f18b",
   "metadata": {},
   "outputs": [
    {
     "name": "stdout",
     "output_type": "stream",
     "text": [
      "+------+\n",
      "|  Name|\n",
      "+------+\n",
      "| Irfan|\n",
      "|Sandra|\n",
      "|Mehmad|\n",
      "|tamara|\n",
      "+------+\n",
      "\n"
     ]
    }
   ],
   "source": [
    "df_pyspark.select('Name').show()   # to show only name column frm entire dataframe"
   ]
  },
  {
   "cell_type": "code",
   "execution_count": 26,
   "id": "bb75cde7",
   "metadata": {},
   "outputs": [
    {
     "name": "stdout",
     "output_type": "stream",
     "text": [
      "+------+----------+\n",
      "|  Name|Experience|\n",
      "+------+----------+\n",
      "| Irfan|         5|\n",
      "|Sandra|         8|\n",
      "|Mehmad|         6|\n",
      "|tamara|         4|\n",
      "+------+----------+\n",
      "\n"
     ]
    }
   ],
   "source": [
    "df_pyspark.select(['Name','Experience']).show()   # for 2 columns "
   ]
  },
  {
   "cell_type": "code",
   "execution_count": 30,
   "id": "c866efeb",
   "metadata": {},
   "outputs": [
    {
     "data": {
      "text/plain": [
       "[('Name', 'string'), ('Age', 'int'), ('Experience', 'int')]"
      ]
     },
     "execution_count": 30,
     "metadata": {},
     "output_type": "execute_result"
    }
   ],
   "source": [
    "df_pyspark.dtypes    #check datatypes"
   ]
  },
  {
   "cell_type": "code",
   "execution_count": 31,
   "id": "fe608be4",
   "metadata": {},
   "outputs": [
    {
     "data": {
      "text/plain": [
       "DataFrame[summary: string, Name: string, Age: string, Experience: string]"
      ]
     },
     "execution_count": 31,
     "metadata": {},
     "output_type": "execute_result"
    }
   ],
   "source": [
    "df_pyspark.describe()"
   ]
  },
  {
   "cell_type": "code",
   "execution_count": 32,
   "id": "330f4940",
   "metadata": {},
   "outputs": [
    {
     "name": "stdout",
     "output_type": "stream",
     "text": [
      "+-------+------+-----------------+-----------------+\n",
      "|summary|  Name|              Age|       Experience|\n",
      "+-------+------+-----------------+-----------------+\n",
      "|  count|     4|                4|                4|\n",
      "|   mean|  null|             25.5|             5.75|\n",
      "| stddev|  null|5.322906474223771|1.707825127659933|\n",
      "|    min| Irfan|               19|                4|\n",
      "|    max|tamara|               32|                8|\n",
      "+-------+------+-----------------+-----------------+\n",
      "\n"
     ]
    }
   ],
   "source": [
    "df_pyspark.describe().show()"
   ]
  },
  {
   "cell_type": "code",
   "execution_count": 34,
   "id": "a351fdf9",
   "metadata": {},
   "outputs": [],
   "source": [
    "##adding columns dropping columns"
   ]
  },
  {
   "cell_type": "code",
   "execution_count": null,
   "id": "bddaa7f2",
   "metadata": {},
   "outputs": [],
   "source": [
    "#add columns"
   ]
  },
  {
   "cell_type": "code",
   "execution_count": 38,
   "id": "1f51e92c",
   "metadata": {},
   "outputs": [],
   "source": [
    "df_pyspark=df_pyspark.withColumn('Experience by 2 years', df_pyspark['Experience']+2)    # added column"
   ]
  },
  {
   "cell_type": "code",
   "execution_count": 40,
   "id": "ab06f6c9",
   "metadata": {},
   "outputs": [
    {
     "name": "stdout",
     "output_type": "stream",
     "text": [
      "+------+---+----------+---------------------+\n",
      "|  Name|Age|Experience|Experience by 2 years|\n",
      "+------+---+----------+---------------------+\n",
      "| Irfan| 26|         5|                    7|\n",
      "|Sandra| 32|         8|                   10|\n",
      "|Mehmad| 25|         6|                    8|\n",
      "|tamara| 19|         4|                    6|\n",
      "+------+---+----------+---------------------+\n",
      "\n"
     ]
    }
   ],
   "source": [
    "df_pyspark.show()"
   ]
  },
  {
   "cell_type": "code",
   "execution_count": 41,
   "id": "acea5e6c",
   "metadata": {},
   "outputs": [],
   "source": [
    "##drop the columns"
   ]
  },
  {
   "cell_type": "code",
   "execution_count": 42,
   "id": "8ed67c57",
   "metadata": {},
   "outputs": [],
   "source": [
    "df_pyspark=df_pyspark.drop('Experience by 2 years')"
   ]
  },
  {
   "cell_type": "code",
   "execution_count": 43,
   "id": "728a53b7",
   "metadata": {},
   "outputs": [
    {
     "name": "stdout",
     "output_type": "stream",
     "text": [
      "+------+---+----------+\n",
      "|  Name|Age|Experience|\n",
      "+------+---+----------+\n",
      "| Irfan| 26|         5|\n",
      "|Sandra| 32|         8|\n",
      "|Mehmad| 25|         6|\n",
      "|tamara| 19|         4|\n",
      "+------+---+----------+\n",
      "\n"
     ]
    }
   ],
   "source": [
    "df_pyspark.show()"
   ]
  },
  {
   "cell_type": "code",
   "execution_count": null,
   "id": "2b4be516",
   "metadata": {},
   "outputs": [],
   "source": [
    "#rename columns"
   ]
  },
  {
   "cell_type": "code",
   "execution_count": 46,
   "id": "ec008e4a",
   "metadata": {},
   "outputs": [],
   "source": [
    "df_pyspark=df_pyspark.withColumnRenamed('Name','New Name')"
   ]
  },
  {
   "cell_type": "code",
   "execution_count": 47,
   "id": "ad7beb2b",
   "metadata": {},
   "outputs": [
    {
     "name": "stdout",
     "output_type": "stream",
     "text": [
      "+--------+---+----------+\n",
      "|New Name|Age|Experience|\n",
      "+--------+---+----------+\n",
      "|   Irfan| 26|         5|\n",
      "|  Sandra| 32|         8|\n",
      "|  Mehmad| 25|         6|\n",
      "|  tamara| 19|         4|\n",
      "+--------+---+----------+\n",
      "\n"
     ]
    }
   ],
   "source": [
    "df_pyspark.show()     #renamed"
   ]
  },
  {
   "cell_type": "code",
   "execution_count": null,
   "id": "62cae315",
   "metadata": {},
   "outputs": [],
   "source": []
  },
  {
   "cell_type": "code",
   "execution_count": null,
   "id": "d6928fed",
   "metadata": {},
   "outputs": [],
   "source": []
  }
 ],
 "metadata": {
  "kernelspec": {
   "display_name": "Python 3 (ipykernel)",
   "language": "python",
   "name": "python3"
  },
  "language_info": {
   "codemirror_mode": {
    "name": "ipython",
    "version": 3
   },
   "file_extension": ".py",
   "mimetype": "text/x-python",
   "name": "python",
   "nbconvert_exporter": "python",
   "pygments_lexer": "ipython3",
   "version": "3.9.7"
  }
 },
 "nbformat": 4,
 "nbformat_minor": 5
}
