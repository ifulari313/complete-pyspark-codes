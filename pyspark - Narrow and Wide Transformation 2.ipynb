{
 "cells": [
  {
   "cell_type": "markdown",
   "id": "42344012",
   "metadata": {},
   "source": [
    "# Narrow Transformations"
   ]
  },
  {
   "cell_type": "code",
   "execution_count": 1,
   "id": "d8b6480a",
   "metadata": {},
   "outputs": [
    {
     "data": {
      "text/plain": [
       "'C:\\\\bin\\\\spark-3.3.0-bin-hadoop2'"
      ]
     },
     "execution_count": 1,
     "metadata": {},
     "output_type": "execute_result"
    }
   ],
   "source": [
    "import findspark\n",
    "findspark.init()\n",
    "findspark.find()"
   ]
  },
  {
   "cell_type": "code",
   "execution_count": 2,
   "id": "5a1da3cf",
   "metadata": {},
   "outputs": [],
   "source": [
    "from pyspark import SparkContext, SparkConf"
   ]
  },
  {
   "cell_type": "code",
   "execution_count": 7,
   "id": "88c20877",
   "metadata": {},
   "outputs": [],
   "source": [
    "conf=SparkConf().setAppName(\"practice\").setMaster(\"local\")\n",
    "sc=SparkContext(conf=conf)"
   ]
  },
  {
   "cell_type": "code",
   "execution_count": 8,
   "id": "251dc675",
   "metadata": {},
   "outputs": [
    {
     "data": {
      "text/plain": [
       "[5, 4, 3, 4, 7, 8, 2]"
      ]
     },
     "execution_count": 8,
     "metadata": {},
     "output_type": "execute_result"
    }
   ],
   "source": [
    "num=sc.parallelize([5,4,3,4,7,8,2])\n",
    "num.collect()"
   ]
  },
  {
   "cell_type": "markdown",
   "id": "f5a3f2fd",
   "metadata": {},
   "source": [
    "# num.map(lambda a: a*2).collect()   ##map function "
   ]
  },
  {
   "cell_type": "code",
   "execution_count": 10,
   "id": "4248b731",
   "metadata": {},
   "outputs": [
    {
     "data": {
      "text/plain": [
       "[25, 16, 9, 16, 49, 64, 4]"
      ]
     },
     "execution_count": 10,
     "metadata": {},
     "output_type": "execute_result"
    }
   ],
   "source": [
    "num.map(lambda a: pow(a,2)).collect()"
   ]
  },
  {
   "cell_type": "code",
   "execution_count": null,
   "id": "b33c4456",
   "metadata": {},
   "outputs": [],
   "source": []
  },
  {
   "cell_type": "code",
   "execution_count": 11,
   "id": "6bfe7591",
   "metadata": {},
   "outputs": [],
   "source": [
    "names=sc.parallelize([\"Bills\",\"Mark\",\"Brain\",\"Mick\"])"
   ]
  },
  {
   "cell_type": "code",
   "execution_count": 12,
   "id": "fc4145ce",
   "metadata": {},
   "outputs": [
    {
     "data": {
      "text/plain": [
       "['Mr. Bills', 'Mr. Mark', 'Mr. Brain', 'Mr. Mick']"
      ]
     },
     "execution_count": 12,
     "metadata": {},
     "output_type": "execute_result"
    }
   ],
   "source": [
    "names.map(lambda a:\"Mr. \"+a).collect()"
   ]
  },
  {
   "cell_type": "markdown",
   "id": "69d8df6c",
   "metadata": {},
   "source": [
    "# Flatmap fuction   "
   ]
  },
  {
   "cell_type": "code",
   "execution_count": 13,
   "id": "335f5435",
   "metadata": {},
   "outputs": [
    {
     "data": {
      "text/plain": [
       "[2, 3, 4]"
      ]
     },
     "execution_count": 13,
     "metadata": {},
     "output_type": "execute_result"
    }
   ],
   "source": [
    "rdd = sc.parallelize([2,3,4])\n",
    "rdd.collect()"
   ]
  },
  {
   "cell_type": "code",
   "execution_count": 14,
   "id": "68260526",
   "metadata": {},
   "outputs": [
    {
     "name": "stdout",
     "output_type": "stream",
     "text": [
      "1\n",
      "2\n"
     ]
    }
   ],
   "source": [
    "a= range(1,3)\n",
    "\n",
    "for i in a:\n",
    "    print(i)"
   ]
  },
  {
   "cell_type": "code",
   "execution_count": 15,
   "id": "3e12dffb",
   "metadata": {},
   "outputs": [
    {
     "data": {
      "text/plain": [
       "[1, 1, 2, 1, 2, 3]"
      ]
     },
     "execution_count": 15,
     "metadata": {},
     "output_type": "execute_result"
    }
   ],
   "source": [
    "(rdd.flatMap(lambda x: range(1,x)).collect())"
   ]
  },
  {
   "cell_type": "code",
   "execution_count": 16,
   "id": "f85c6b93",
   "metadata": {},
   "outputs": [],
   "source": [
    "a=sc.parallelize([1,2,3])"
   ]
  },
  {
   "cell_type": "code",
   "execution_count": 18,
   "id": "42fc3c7e",
   "metadata": {},
   "outputs": [
    {
     "data": {
      "text/plain": [
       "[1, 10, 57, 2, 20, 57, 3, 30, 57]"
      ]
     },
     "execution_count": 18,
     "metadata": {},
     "output_type": "execute_result"
    }
   ],
   "source": [
    "b= a.flatMap(lambda x: (x,x*10,57))\n",
    "b.collect()"
   ]
  },
  {
   "cell_type": "markdown",
   "id": "b68e17b9",
   "metadata": {},
   "source": [
    "# Filter function"
   ]
  },
  {
   "cell_type": "code",
   "execution_count": null,
   "id": "1e42ebfb",
   "metadata": {},
   "outputs": [],
   "source": []
  },
  {
   "cell_type": "code",
   "execution_count": 19,
   "id": "7acd726f",
   "metadata": {},
   "outputs": [
    {
     "data": {
      "text/plain": [
       "[5, 4, 3, 4, 7, 8, 2]"
      ]
     },
     "execution_count": 19,
     "metadata": {},
     "output_type": "execute_result"
    }
   ],
   "source": [
    "num.collect()"
   ]
  },
  {
   "cell_type": "code",
   "execution_count": 20,
   "id": "5ed1279e",
   "metadata": {},
   "outputs": [
    {
     "data": {
      "text/plain": [
       "[4, 4, 8, 2]"
      ]
     },
     "execution_count": 20,
     "metadata": {},
     "output_type": "execute_result"
    }
   ],
   "source": [
    "num.filter(lambda x: x%2==0).collect()"
   ]
  },
  {
   "cell_type": "code",
   "execution_count": null,
   "id": "d64fd4d9",
   "metadata": {},
   "outputs": [],
   "source": []
  },
  {
   "cell_type": "code",
   "execution_count": 21,
   "id": "6947589b",
   "metadata": {},
   "outputs": [
    {
     "data": {
      "text/plain": [
       "['Bills', 'Mark', 'Brain', 'Mick']"
      ]
     },
     "execution_count": 21,
     "metadata": {},
     "output_type": "execute_result"
    }
   ],
   "source": [
    "names.collect()"
   ]
  },
  {
   "cell_type": "code",
   "execution_count": 22,
   "id": "0a7d07a6",
   "metadata": {},
   "outputs": [
    {
     "data": {
      "text/plain": [
       "['Bills', 'Brain']"
      ]
     },
     "execution_count": 22,
     "metadata": {},
     "output_type": "execute_result"
    }
   ],
   "source": [
    "names.filter(lambda x: \"B\" in x).collect()    #all names starting with B is return"
   ]
  },
  {
   "cell_type": "code",
   "execution_count": null,
   "id": "2d9378c3",
   "metadata": {},
   "outputs": [],
   "source": []
  },
  {
   "cell_type": "markdown",
   "id": "df3434e4",
   "metadata": {},
   "source": [
    "# Union    #combine both data"
   ]
  },
  {
   "cell_type": "code",
   "execution_count": 23,
   "id": "30f7fdc8",
   "metadata": {},
   "outputs": [
    {
     "data": {
      "text/plain": [
       "[5, 4, 3, 4, 7, 8, 2]"
      ]
     },
     "execution_count": 23,
     "metadata": {},
     "output_type": "execute_result"
    }
   ],
   "source": [
    "num.collect()"
   ]
  },
  {
   "cell_type": "code",
   "execution_count": 24,
   "id": "f92f0535",
   "metadata": {},
   "outputs": [
    {
     "data": {
      "text/plain": [
       "[7, 8, 9, 2, 6, 4, 3]"
      ]
     },
     "execution_count": 24,
     "metadata": {},
     "output_type": "execute_result"
    }
   ],
   "source": [
    "num2=sc.parallelize([7,8,9,2,6,4,3])\n",
    "num2.collect()"
   ]
  },
  {
   "cell_type": "code",
   "execution_count": 25,
   "id": "b3bdcb2c",
   "metadata": {},
   "outputs": [
    {
     "data": {
      "text/plain": [
       "[5, 4, 3, 4, 7, 8, 2, 7, 8, 9, 2, 6, 4, 3]"
      ]
     },
     "execution_count": 25,
     "metadata": {},
     "output_type": "execute_result"
    }
   ],
   "source": [
    "num.union(num2).collect()"
   ]
  },
  {
   "cell_type": "code",
   "execution_count": 26,
   "id": "5520aa0b",
   "metadata": {},
   "outputs": [
    {
     "data": {
      "text/plain": [
       "[7, 8, 9, 2, 6, 4, 3, 5, 4, 3, 4, 7, 8, 2]"
      ]
     },
     "execution_count": 26,
     "metadata": {},
     "output_type": "execute_result"
    }
   ],
   "source": [
    "num2.union(num).collect()"
   ]
  },
  {
   "cell_type": "code",
   "execution_count": null,
   "id": "342dc424",
   "metadata": {},
   "outputs": [],
   "source": [
    "# also"
   ]
  },
  {
   "cell_type": "code",
   "execution_count": 27,
   "id": "e907a637",
   "metadata": {},
   "outputs": [],
   "source": [
    "x = sc.parallelize([1,2,3],2)\n",
    "y = sc.parallelize([3,4],1)"
   ]
  },
  {
   "cell_type": "code",
   "execution_count": 28,
   "id": "b545d808",
   "metadata": {},
   "outputs": [
    {
     "data": {
      "text/plain": [
       "[1, 2, 3, 3, 4]"
      ]
     },
     "execution_count": 28,
     "metadata": {},
     "output_type": "execute_result"
    }
   ],
   "source": [
    "z= x.union(y)\n",
    "z.collect()"
   ]
  },
  {
   "cell_type": "markdown",
   "id": "65f119e1",
   "metadata": {},
   "source": [
    "# Sample"
   ]
  },
  {
   "cell_type": "code",
   "execution_count": 30,
   "id": "d6eaff15",
   "metadata": {},
   "outputs": [
    {
     "data": {
      "text/plain": [
       "[1, 2, 3, 4, 5, 6, 7, 8, 9]"
      ]
     },
     "execution_count": 30,
     "metadata": {},
     "output_type": "execute_result"
    }
   ],
   "source": [
    "parellel = sc.parallelize(range(1,10))\n",
    "parellel.collect()"
   ]
  },
  {
   "cell_type": "code",
   "execution_count": 33,
   "id": "56e32a3e",
   "metadata": {},
   "outputs": [
    {
     "data": {
      "text/plain": [
       "[4, 7, 7]"
      ]
     },
     "execution_count": 33,
     "metadata": {},
     "output_type": "execute_result"
    }
   ],
   "source": [
    "parellel.sample(True,.2).collect()       # True means sampling with replacement  # .2 is fraction of dataset i.e 20% of data"
   ]
  },
  {
   "cell_type": "code",
   "execution_count": null,
   "id": "eafa847e",
   "metadata": {},
   "outputs": [],
   "source": [
    "# above we can see value changes every time thats why we are using seed func"
   ]
  },
  {
   "cell_type": "code",
   "execution_count": 35,
   "id": "94cf04b1",
   "metadata": {},
   "outputs": [
    {
     "data": {
      "text/plain": [
       "[2, 4, 6, 9]"
      ]
     },
     "execution_count": 35,
     "metadata": {},
     "output_type": "execute_result"
    }
   ],
   "source": [
    "parellel.sample(True,.2, seed=19).collect()      #result remains same each time"
   ]
  },
  {
   "cell_type": "code",
   "execution_count": 37,
   "id": "53383836",
   "metadata": {},
   "outputs": [
    {
     "data": {
      "text/plain": [
       "[3, 6]"
      ]
     },
     "execution_count": 37,
     "metadata": {},
     "output_type": "execute_result"
    }
   ],
   "source": [
    "parellel.sample(False,.2).collect()     #False means sampling without replacement"
   ]
  },
  {
   "cell_type": "code",
   "execution_count": null,
   "id": "84584b36",
   "metadata": {},
   "outputs": [],
   "source": []
  },
  {
   "cell_type": "markdown",
   "id": "579c3c55",
   "metadata": {},
   "source": [
    "# Wide Transformations"
   ]
  },
  {
   "cell_type": "markdown",
   "id": "921cb297",
   "metadata": {},
   "source": [
    "## GroupBy   and GroupByKey (for key value pair only)"
   ]
  },
  {
   "cell_type": "code",
   "execution_count": 38,
   "id": "e86107ad",
   "metadata": {},
   "outputs": [
    {
     "data": {
      "text/plain": [
       "['Bills', 'Mark', 'Brain', 'Mick']"
      ]
     },
     "execution_count": 38,
     "metadata": {},
     "output_type": "execute_result"
    }
   ],
   "source": [
    "names.collect()"
   ]
  },
  {
   "cell_type": "code",
   "execution_count": null,
   "id": "0583d5dd",
   "metadata": {},
   "outputs": [],
   "source": [
    "#grouping names by alphabets"
   ]
  },
  {
   "cell_type": "code",
   "execution_count": 39,
   "id": "8ac19d56",
   "metadata": {},
   "outputs": [],
   "source": [
    "names_gr = names.groupBy(lambda x: x[0])"
   ]
  },
  {
   "cell_type": "code",
   "execution_count": 40,
   "id": "d61b4431",
   "metadata": {},
   "outputs": [
    {
     "data": {
      "text/plain": [
       "[('B', <pyspark.resultiterable.ResultIterable at 0x1ccb0de67c0>),\n",
       " ('M', <pyspark.resultiterable.ResultIterable at 0x1ccb0dd65e0>)]"
      ]
     },
     "execution_count": 40,
     "metadata": {},
     "output_type": "execute_result"
    }
   ],
   "source": [
    "names_gr.collect()    # it create key value pair  to see this... convert to list"
   ]
  },
  {
   "cell_type": "code",
   "execution_count": 41,
   "id": "f604b611",
   "metadata": {},
   "outputs": [
    {
     "name": "stdout",
     "output_type": "stream",
     "text": [
      "B ['Bills', 'Brain']\n",
      "M ['Mark', 'Mick']\n"
     ]
    }
   ],
   "source": [
    "for (k,v) in names_gr.collect():\n",
    "    print(k, list(v))"
   ]
  },
  {
   "cell_type": "code",
   "execution_count": 44,
   "id": "ad3fc8f7",
   "metadata": {},
   "outputs": [],
   "source": [
    "## another example"
   ]
  },
  {
   "cell_type": "code",
   "execution_count": 45,
   "id": "8383e57c",
   "metadata": {},
   "outputs": [],
   "source": [
    "aa= sc.parallelize(range(1,8))\n",
    "result=aa.groupBy(lambda x: x%2).collect()"
   ]
  },
  {
   "cell_type": "code",
   "execution_count": 47,
   "id": "60184e29",
   "metadata": {},
   "outputs": [
    {
     "data": {
      "text/plain": [
       "[(1, <pyspark.resultiterable.ResultIterable at 0x1ccb0de6a30>),\n",
       " (0, <pyspark.resultiterable.ResultIterable at 0x1ccb0de6160>)]"
      ]
     },
     "execution_count": 47,
     "metadata": {},
     "output_type": "execute_result"
    }
   ],
   "source": [
    "result"
   ]
  },
  {
   "cell_type": "code",
   "execution_count": 46,
   "id": "f0db9d3a",
   "metadata": {},
   "outputs": [
    {
     "name": "stdout",
     "output_type": "stream",
     "text": [
      "1 [1, 3, 5, 7]\n",
      "0 [2, 4, 6]\n"
     ]
    }
   ],
   "source": [
    "for (k,v) in result:\n",
    "    print(k, list(v))"
   ]
  },
  {
   "cell_type": "code",
   "execution_count": null,
   "id": "fd21acb2",
   "metadata": {},
   "outputs": [],
   "source": []
  },
  {
   "cell_type": "markdown",
   "id": "fef03b4a",
   "metadata": {},
   "source": [
    "# Intersection   # only common elements display"
   ]
  },
  {
   "cell_type": "code",
   "execution_count": 48,
   "id": "6b6ebb0d",
   "metadata": {},
   "outputs": [
    {
     "data": {
      "text/plain": [
       "[5, 4, 3, 4, 7, 8, 2]"
      ]
     },
     "execution_count": 48,
     "metadata": {},
     "output_type": "execute_result"
    }
   ],
   "source": [
    "num.collect()"
   ]
  },
  {
   "cell_type": "code",
   "execution_count": 49,
   "id": "126947cc",
   "metadata": {},
   "outputs": [
    {
     "data": {
      "text/plain": [
       "[7, 8, 9, 2, 6, 4, 3]"
      ]
     },
     "execution_count": 49,
     "metadata": {},
     "output_type": "execute_result"
    }
   ],
   "source": [
    "num2.collect()"
   ]
  },
  {
   "cell_type": "code",
   "execution_count": 51,
   "id": "bd6ffd8d",
   "metadata": {},
   "outputs": [
    {
     "data": {
      "text/plain": [
       "[4, 8, 2, 3, 7]"
      ]
     },
     "execution_count": 51,
     "metadata": {},
     "output_type": "execute_result"
    }
   ],
   "source": [
    "num.intersection(num2).collect()"
   ]
  },
  {
   "cell_type": "code",
   "execution_count": 52,
   "id": "2052bf52",
   "metadata": {},
   "outputs": [
    {
     "data": {
      "text/plain": [
       "[8, 2, 4, 7, 3]"
      ]
     },
     "execution_count": 52,
     "metadata": {},
     "output_type": "execute_result"
    }
   ],
   "source": [
    "num2.intersection(num).collect()"
   ]
  },
  {
   "cell_type": "code",
   "execution_count": null,
   "id": "d4e5b14a",
   "metadata": {},
   "outputs": [],
   "source": []
  },
  {
   "cell_type": "markdown",
   "id": "d537a1cf",
   "metadata": {},
   "source": [
    "# Subtract   # reverse of intersection , not takes comman elements"
   ]
  },
  {
   "cell_type": "code",
   "execution_count": 53,
   "id": "611884cd",
   "metadata": {},
   "outputs": [
    {
     "data": {
      "text/plain": [
       "[6, 9]"
      ]
     },
     "execution_count": 53,
     "metadata": {},
     "output_type": "execute_result"
    }
   ],
   "source": [
    "num2.subtract(num).collect()"
   ]
  },
  {
   "cell_type": "code",
   "execution_count": 54,
   "id": "72d9d8b6",
   "metadata": {},
   "outputs": [
    {
     "data": {
      "text/plain": [
       "[5]"
      ]
     },
     "execution_count": 54,
     "metadata": {},
     "output_type": "execute_result"
    }
   ],
   "source": [
    "num.subtract(num2).collect()"
   ]
  },
  {
   "cell_type": "code",
   "execution_count": null,
   "id": "6332346c",
   "metadata": {},
   "outputs": [],
   "source": []
  },
  {
   "cell_type": "markdown",
   "id": "dbe29065",
   "metadata": {},
   "source": [
    "# Distinct   like unique element , not takes duplicate elements"
   ]
  },
  {
   "cell_type": "code",
   "execution_count": 55,
   "id": "a7f7a641",
   "metadata": {},
   "outputs": [
    {
     "data": {
      "text/plain": [
       "[5, 4, 3, 4, 7, 8, 2]"
      ]
     },
     "execution_count": 55,
     "metadata": {},
     "output_type": "execute_result"
    }
   ],
   "source": [
    "num.collect()"
   ]
  },
  {
   "cell_type": "code",
   "execution_count": 56,
   "id": "eb75c077",
   "metadata": {},
   "outputs": [
    {
     "data": {
      "text/plain": [
       "[5, 4, 3, 7, 8, 2]"
      ]
     },
     "execution_count": 56,
     "metadata": {},
     "output_type": "execute_result"
    }
   ],
   "source": [
    "num.distinct().collect()"
   ]
  },
  {
   "cell_type": "code",
   "execution_count": null,
   "id": "a7f47c3e",
   "metadata": {},
   "outputs": [],
   "source": []
  }
 ],
 "metadata": {
  "kernelspec": {
   "display_name": "Python 3 (ipykernel)",
   "language": "python",
   "name": "python3"
  },
  "language_info": {
   "codemirror_mode": {
    "name": "ipython",
    "version": 3
   },
   "file_extension": ".py",
   "mimetype": "text/x-python",
   "name": "python",
   "nbconvert_exporter": "python",
   "pygments_lexer": "ipython3",
   "version": "3.9.7"
  }
 },
 "nbformat": 4,
 "nbformat_minor": 5
}
