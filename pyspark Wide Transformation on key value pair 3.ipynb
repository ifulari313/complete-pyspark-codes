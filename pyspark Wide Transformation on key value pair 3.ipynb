{
 "cells": [
  {
   "cell_type": "code",
   "execution_count": 1,
   "id": "b4f2bb98",
   "metadata": {},
   "outputs": [
    {
     "data": {
      "text/plain": [
       "'C:\\\\bin\\\\spark-3.3.0-bin-hadoop2'"
      ]
     },
     "execution_count": 1,
     "metadata": {},
     "output_type": "execute_result"
    }
   ],
   "source": [
    "import findspark\n",
    "findspark.init()\n",
    "findspark.find()"
   ]
  },
  {
   "cell_type": "code",
   "execution_count": 2,
   "id": "50adc988",
   "metadata": {},
   "outputs": [],
   "source": [
    "from pyspark import SparkContext, SparkConf"
   ]
  },
  {
   "cell_type": "code",
   "execution_count": 3,
   "id": "1ded1400",
   "metadata": {},
   "outputs": [],
   "source": [
    "conf=SparkConf().setAppName(\"practice\").setMaster(\"local\")\n",
    "sc=SparkContext(conf=conf)"
   ]
  },
  {
   "cell_type": "code",
   "execution_count": 4,
   "id": "e0b202f8",
   "metadata": {},
   "outputs": [
    {
     "data": {
      "text/plain": [
       "[(1, 2), (3, 4), (3, 6), (3, 4)]"
      ]
     },
     "execution_count": 4,
     "metadata": {},
     "output_type": "execute_result"
    }
   ],
   "source": [
    "data = sc.parallelize([(1,2),(3,4),(3,6),(3,4)])\n",
    "data.collect()"
   ]
  },
  {
   "cell_type": "code",
   "execution_count": 5,
   "id": "8cc3b125",
   "metadata": {},
   "outputs": [
    {
     "data": {
      "text/plain": [
       "pyspark.rdd.RDD"
      ]
     },
     "execution_count": 5,
     "metadata": {},
     "output_type": "execute_result"
    }
   ],
   "source": [
    "type(data)"
   ]
  },
  {
   "cell_type": "code",
   "execution_count": 6,
   "id": "2acc3129",
   "metadata": {},
   "outputs": [
    {
     "data": {
      "text/plain": [
       "4"
      ]
     },
     "execution_count": 6,
     "metadata": {},
     "output_type": "execute_result"
    }
   ],
   "source": [
    "data.count()     #count by key"
   ]
  },
  {
   "cell_type": "code",
   "execution_count": 7,
   "id": "1d00cc0d",
   "metadata": {},
   "outputs": [
    {
     "data": {
      "text/plain": [
       "defaultdict(int, {(1, 2): 1, (3, 4): 2, (3, 6): 1})"
      ]
     },
     "execution_count": 7,
     "metadata": {},
     "output_type": "execute_result"
    }
   ],
   "source": [
    "data.countByValue()   #count by values"
   ]
  },
  {
   "cell_type": "code",
   "execution_count": null,
   "id": "fec28ef9",
   "metadata": {},
   "outputs": [],
   "source": []
  },
  {
   "cell_type": "code",
   "execution_count": 9,
   "id": "0ea5d0cd",
   "metadata": {},
   "outputs": [
    {
     "data": {
      "text/plain": [
       "[(1, 'mike'), (2, 'john'), (3, 'rambo'), (4, 'bill')]"
      ]
     },
     "execution_count": 9,
     "metadata": {},
     "output_type": "execute_result"
    }
   ],
   "source": [
    "dataStr=sc.parallelize([(1,'mike'),(2,'john'),(3,'rambo'),(4,'bill')])\n",
    "dataStr.collect()"
   ]
  },
  {
   "cell_type": "code",
   "execution_count": 10,
   "id": "8c8ef087",
   "metadata": {},
   "outputs": [
    {
     "data": {
      "text/plain": [
       "4"
      ]
     },
     "execution_count": 10,
     "metadata": {},
     "output_type": "execute_result"
    }
   ],
   "source": [
    "dataStr.count()"
   ]
  },
  {
   "cell_type": "code",
   "execution_count": 11,
   "id": "82b83d1b",
   "metadata": {},
   "outputs": [
    {
     "data": {
      "text/plain": [
       "defaultdict(int,\n",
       "            {(1, 'mike'): 1, (2, 'john'): 1, (3, 'rambo'): 1, (4, 'bill'): 1})"
      ]
     },
     "execution_count": 11,
     "metadata": {},
     "output_type": "execute_result"
    }
   ],
   "source": [
    "dataStr.countByValue()      #gives frequency of each occurances"
   ]
  },
  {
   "cell_type": "code",
   "execution_count": 12,
   "id": "f3be6ac8",
   "metadata": {},
   "outputs": [
    {
     "data": {
      "text/plain": [
       "[(3, 6), (3, 4)]"
      ]
     },
     "execution_count": 12,
     "metadata": {},
     "output_type": "execute_result"
    }
   ],
   "source": [
    "data.top(2)"
   ]
  },
  {
   "cell_type": "code",
   "execution_count": 13,
   "id": "821d4110",
   "metadata": {},
   "outputs": [
    {
     "data": {
      "text/plain": [
       "[(1, 2), (3, 4), (3, 6), (3, 4)]"
      ]
     },
     "execution_count": 13,
     "metadata": {},
     "output_type": "execute_result"
    }
   ],
   "source": [
    "data.collect()"
   ]
  },
  {
   "cell_type": "code",
   "execution_count": 14,
   "id": "e498bd1a",
   "metadata": {},
   "outputs": [
    {
     "data": {
      "text/plain": [
       "[(1, 2), (3, 4), (3, 6), (3, 4)]"
      ]
     },
     "execution_count": 14,
     "metadata": {},
     "output_type": "execute_result"
    }
   ],
   "source": [
    "data.sortByKey().collect()"
   ]
  },
  {
   "cell_type": "code",
   "execution_count": null,
   "id": "5ccb7041",
   "metadata": {},
   "outputs": [],
   "source": [
    "# Lookup : Return all value associated with the given 'key'"
   ]
  },
  {
   "cell_type": "code",
   "execution_count": 15,
   "id": "b3c33223",
   "metadata": {},
   "outputs": [
    {
     "data": {
      "text/plain": [
       "[4, 6, 4]"
      ]
     },
     "execution_count": 15,
     "metadata": {},
     "output_type": "execute_result"
    }
   ],
   "source": [
    "data.lookup(3)"
   ]
  },
  {
   "cell_type": "code",
   "execution_count": 16,
   "id": "7f45f2bd",
   "metadata": {},
   "outputs": [
    {
     "data": {
      "text/plain": [
       "[1, 3, 3, 3]"
      ]
     },
     "execution_count": 16,
     "metadata": {},
     "output_type": "execute_result"
    }
   ],
   "source": [
    "data.keys().collect()"
   ]
  },
  {
   "cell_type": "code",
   "execution_count": 18,
   "id": "433796e4",
   "metadata": {},
   "outputs": [
    {
     "data": {
      "text/plain": [
       "[2, 4, 6, 4]"
      ]
     },
     "execution_count": 18,
     "metadata": {},
     "output_type": "execute_result"
    }
   ],
   "source": [
    "data.values().collect()"
   ]
  },
  {
   "cell_type": "code",
   "execution_count": 19,
   "id": "e864452d",
   "metadata": {},
   "outputs": [
    {
     "data": {
      "text/plain": [
       "[(1, 4), (3, 16), (3, 36), (3, 16)]"
      ]
     },
     "execution_count": 19,
     "metadata": {},
     "output_type": "execute_result"
    }
   ],
   "source": [
    "data.mapValues(lambda a: a*a).collect()"
   ]
  },
  {
   "cell_type": "code",
   "execution_count": null,
   "id": "645fc253",
   "metadata": {},
   "outputs": [],
   "source": [
    "# data.map() no use in key value,     instead of that we use mapValues()\n",
    "# data.reduce() no use in key value   instead of that we use reduceByKey()"
   ]
  },
  {
   "cell_type": "code",
   "execution_count": null,
   "id": "b9338e32",
   "metadata": {},
   "outputs": [],
   "source": []
  },
  {
   "cell_type": "markdown",
   "id": "94194b71",
   "metadata": {},
   "source": [
    "# ReduceByKey"
   ]
  },
  {
   "cell_type": "code",
   "execution_count": 20,
   "id": "5efa8d7c",
   "metadata": {},
   "outputs": [
    {
     "data": {
      "text/plain": [
       "[(1, 2), (3, 4), (3, 6), (3, 4)]"
      ]
     },
     "execution_count": 20,
     "metadata": {},
     "output_type": "execute_result"
    }
   ],
   "source": [
    "data.collect()"
   ]
  },
  {
   "cell_type": "code",
   "execution_count": 21,
   "id": "9be3e24b",
   "metadata": {},
   "outputs": [
    {
     "data": {
      "text/plain": [
       "[(1, 2), (3, 14)]"
      ]
     },
     "execution_count": 21,
     "metadata": {},
     "output_type": "execute_result"
    }
   ],
   "source": [
    "data.reduceByKey(lambda x,y : x+y).collect()"
   ]
  },
  {
   "cell_type": "code",
   "execution_count": 22,
   "id": "067420b7",
   "metadata": {},
   "outputs": [
    {
     "data": {
      "text/plain": [
       "[(1, 2), (3, 6)]"
      ]
     },
     "execution_count": 22,
     "metadata": {},
     "output_type": "execute_result"
    }
   ],
   "source": [
    "data.reduceByKey(max).collect()"
   ]
  },
  {
   "cell_type": "code",
   "execution_count": null,
   "id": "21435ac3",
   "metadata": {},
   "outputs": [],
   "source": []
  },
  {
   "cell_type": "markdown",
   "id": "15c7ec6e",
   "metadata": {},
   "source": [
    "# GroupByKey"
   ]
  },
  {
   "cell_type": "code",
   "execution_count": 23,
   "id": "a5f6d47f",
   "metadata": {},
   "outputs": [],
   "source": [
    "#groupBy: this transformation groups all the rows with the same key into a single row\n",
    "result = data.groupByKey().collect()"
   ]
  },
  {
   "cell_type": "code",
   "execution_count": 24,
   "id": "7b8d3552",
   "metadata": {},
   "outputs": [
    {
     "data": {
      "text/plain": [
       "[(1, <pyspark.resultiterable.ResultIterable at 0x1b875220310>),\n",
       " (3, <pyspark.resultiterable.ResultIterable at 0x1b875220550>)]"
      ]
     },
     "execution_count": 24,
     "metadata": {},
     "output_type": "execute_result"
    }
   ],
   "source": [
    "result"
   ]
  },
  {
   "cell_type": "code",
   "execution_count": null,
   "id": "1c8756aa",
   "metadata": {},
   "outputs": [],
   "source": [
    "#to convert this "
   ]
  },
  {
   "cell_type": "code",
   "execution_count": 25,
   "id": "23eb3a3b",
   "metadata": {},
   "outputs": [
    {
     "name": "stdout",
     "output_type": "stream",
     "text": [
      "1 [2]\n",
      "3 [4, 6, 4]\n"
     ]
    }
   ],
   "source": [
    "for (k,v) in result:\n",
    "    print(k, list(v))"
   ]
  },
  {
   "cell_type": "code",
   "execution_count": 26,
   "id": "acf44a24",
   "metadata": {},
   "outputs": [],
   "source": [
    "aa= data.groupByKey().mapValues(sum)"
   ]
  },
  {
   "cell_type": "code",
   "execution_count": 27,
   "id": "d42aecb8",
   "metadata": {},
   "outputs": [
    {
     "data": {
      "text/plain": [
       "[(1, 2), (3, 14)]"
      ]
     },
     "execution_count": 27,
     "metadata": {},
     "output_type": "execute_result"
    }
   ],
   "source": [
    "aa.collect()"
   ]
  },
  {
   "cell_type": "code",
   "execution_count": 28,
   "id": "95476502",
   "metadata": {},
   "outputs": [],
   "source": [
    "bb = data.groupByKey().mapValues(max)"
   ]
  },
  {
   "cell_type": "code",
   "execution_count": 29,
   "id": "4d862cdc",
   "metadata": {},
   "outputs": [
    {
     "data": {
      "text/plain": [
       "[(1, 2), (3, 6)]"
      ]
     },
     "execution_count": 29,
     "metadata": {},
     "output_type": "execute_result"
    }
   ],
   "source": [
    "bb.collect()"
   ]
  },
  {
   "cell_type": "code",
   "execution_count": null,
   "id": "81d412e4",
   "metadata": {},
   "outputs": [],
   "source": [
    "# we can see from above results"
   ]
  },
  {
   "cell_type": "code",
   "execution_count": null,
   "id": "1a4e68b7",
   "metadata": {},
   "outputs": [],
   "source": [
    "#reduceByKey = groupByKey().mapValues()"
   ]
  },
  {
   "cell_type": "code",
   "execution_count": null,
   "id": "7fe8a49b",
   "metadata": {},
   "outputs": [],
   "source": []
  },
  {
   "cell_type": "code",
   "execution_count": 30,
   "id": "d63dcc32",
   "metadata": {},
   "outputs": [
    {
     "data": {
      "text/plain": [
       "[(1, 2), (3, 4), (3, 6), (3, 4)]"
      ]
     },
     "execution_count": 30,
     "metadata": {},
     "output_type": "execute_result"
    }
   ],
   "source": [
    "data.collect()"
   ]
  },
  {
   "cell_type": "code",
   "execution_count": 31,
   "id": "b68f605f",
   "metadata": {},
   "outputs": [
    {
     "data": {
      "text/plain": [
       "[(1, 1),\n",
       " (3, 1),\n",
       " (3, 2),\n",
       " (3, 3),\n",
       " (3, 1),\n",
       " (3, 2),\n",
       " (3, 3),\n",
       " (3, 4),\n",
       " (3, 5),\n",
       " (3, 1),\n",
       " (3, 2),\n",
       " (3, 3)]"
      ]
     },
     "execution_count": 31,
     "metadata": {},
     "output_type": "execute_result"
    }
   ],
   "source": [
    "data.flatMapValues(lambda x: range(1, x)).collect()"
   ]
  },
  {
   "cell_type": "code",
   "execution_count": 32,
   "id": "b5528121",
   "metadata": {},
   "outputs": [
    {
     "data": {
      "text/plain": [
       "[(3, 9)]"
      ]
     },
     "execution_count": 32,
     "metadata": {},
     "output_type": "execute_result"
    }
   ],
   "source": [
    "data2 =  sc.parallelize([(3,9)])\n",
    "data2.collect()"
   ]
  },
  {
   "cell_type": "code",
   "execution_count": 33,
   "id": "45ceaf8b",
   "metadata": {},
   "outputs": [
    {
     "data": {
      "text/plain": [
       "[(1, 2)]"
      ]
     },
     "execution_count": 33,
     "metadata": {},
     "output_type": "execute_result"
    }
   ],
   "source": [
    "data.subtractByKey(data2).collect()      # check for same key if available then skip, and not containing is the answer"
   ]
  },
  {
   "cell_type": "code",
   "execution_count": 34,
   "id": "5579883c",
   "metadata": {},
   "outputs": [
    {
     "data": {
      "text/plain": [
       "[]"
      ]
     },
     "execution_count": 34,
     "metadata": {},
     "output_type": "execute_result"
    }
   ],
   "source": [
    "data2.subtractByKey(data).collect()"
   ]
  },
  {
   "cell_type": "markdown",
   "id": "162dcd3f",
   "metadata": {},
   "source": [
    "# Join     like inner join, outer join, left join etc"
   ]
  },
  {
   "cell_type": "code",
   "execution_count": 35,
   "id": "270ea4c8",
   "metadata": {},
   "outputs": [
    {
     "data": {
      "text/plain": [
       "[(1, 2), (3, 4), (3, 6), (3, 4)]"
      ]
     },
     "execution_count": 35,
     "metadata": {},
     "output_type": "execute_result"
    }
   ],
   "source": [
    "data.collect()"
   ]
  },
  {
   "cell_type": "code",
   "execution_count": 36,
   "id": "fbe953ec",
   "metadata": {},
   "outputs": [
    {
     "data": {
      "text/plain": [
       "[(3, 9), (4, 15)]"
      ]
     },
     "execution_count": 36,
     "metadata": {},
     "output_type": "execute_result"
    }
   ],
   "source": [
    "data2 = sc.parallelize([(3,9),(4,15)])\n",
    "data2.collect()"
   ]
  },
  {
   "cell_type": "code",
   "execution_count": 37,
   "id": "4d038aca",
   "metadata": {},
   "outputs": [
    {
     "data": {
      "text/plain": [
       "[(3, (4, 9)), (3, (6, 9)), (3, (4, 9))]"
      ]
     },
     "execution_count": 37,
     "metadata": {},
     "output_type": "execute_result"
    }
   ],
   "source": [
    "data.join(data2).collect()"
   ]
  },
  {
   "cell_type": "code",
   "execution_count": 38,
   "id": "36ebeec1",
   "metadata": {},
   "outputs": [
    {
     "data": {
      "text/plain": [
       "[(3, (9, 4)), (3, (9, 6)), (3, (9, 4))]"
      ]
     },
     "execution_count": 38,
     "metadata": {},
     "output_type": "execute_result"
    }
   ],
   "source": [
    "data2.join(data).collect()"
   ]
  },
  {
   "cell_type": "code",
   "execution_count": null,
   "id": "8a8d8c03",
   "metadata": {},
   "outputs": [],
   "source": []
  },
  {
   "cell_type": "code",
   "execution_count": 42,
   "id": "472bbe05",
   "metadata": {},
   "outputs": [
    {
     "data": {
      "text/plain": [
       "[(4, (None, 15)), (3, (4, 9)), (3, (6, 9)), (3, (4, 9))]"
      ]
     },
     "execution_count": 42,
     "metadata": {},
     "output_type": "execute_result"
    }
   ],
   "source": [
    "# rightOuterJoin : perform a join between two RDDs where key must be present in the first RDD\n",
    "\n",
    "data.rightOuterJoin(data2).collect()"
   ]
  },
  {
   "cell_type": "code",
   "execution_count": 41,
   "id": "54007263",
   "metadata": {},
   "outputs": [
    {
     "data": {
      "text/plain": [
       "[(3, (9, 4)), (3, (9, 6)), (3, (9, 4)), (1, (None, 2))]"
      ]
     },
     "execution_count": 41,
     "metadata": {},
     "output_type": "execute_result"
    }
   ],
   "source": [
    "data2.rightOuterJoin(data).collect()"
   ]
  },
  {
   "cell_type": "code",
   "execution_count": 40,
   "id": "fd9f3de6",
   "metadata": {},
   "outputs": [
    {
     "data": {
      "text/plain": [
       "[(1, (2, None)), (3, (4, 9)), (3, (6, 9)), (3, (4, 9))]"
      ]
     },
     "execution_count": 40,
     "metadata": {},
     "output_type": "execute_result"
    }
   ],
   "source": [
    "# leftOuterJoin : perform a join between two RDDs where key must be present in the other RDD\n",
    "\n",
    "data.leftOuterJoin(data2).collect()"
   ]
  },
  {
   "cell_type": "code",
   "execution_count": 43,
   "id": "44231223",
   "metadata": {},
   "outputs": [
    {
     "data": {
      "text/plain": [
       "[(4, (15, None)), (3, (9, 4)), (3, (9, 6)), (3, (9, 4))]"
      ]
     },
     "execution_count": 43,
     "metadata": {},
     "output_type": "execute_result"
    }
   ],
   "source": [
    "data2.leftOuterJoin(data).collect()"
   ]
  },
  {
   "cell_type": "code",
   "execution_count": null,
   "id": "72842775",
   "metadata": {},
   "outputs": [],
   "source": []
  }
 ],
 "metadata": {
  "kernelspec": {
   "display_name": "Python 3 (ipykernel)",
   "language": "python",
   "name": "python3"
  },
  "language_info": {
   "codemirror_mode": {
    "name": "ipython",
    "version": 3
   },
   "file_extension": ".py",
   "mimetype": "text/x-python",
   "name": "python",
   "nbconvert_exporter": "python",
   "pygments_lexer": "ipython3",
   "version": "3.9.7"
  }
 },
 "nbformat": 4,
 "nbformat_minor": 5
}
